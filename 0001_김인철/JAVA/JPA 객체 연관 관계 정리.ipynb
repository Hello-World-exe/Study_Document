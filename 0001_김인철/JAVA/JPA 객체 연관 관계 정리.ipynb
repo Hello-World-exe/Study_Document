{
 "cells": [
  {
   "cell_type": "markdown",
   "id": "eed6519a",
   "metadata": {},
   "source": [
    "# JPA 연관 관계 정리"
   ]
  },
  {
   "cell_type": "markdown",
   "id": "22a9bf8f",
   "metadata": {},
   "source": [
    "## 서론. JPA 를 사용하는 이유\n",
    "- \"객체와 관계형 데이터베이스 테이블이 어떻게 매핑되는지를 이해하는 것\"\n",
    "\n",
    " -> 객체 지향 프로그래밍과 데이터베이스 사이의 패러다임 불일치를 해결"
   ]
  },
  {
   "cell_type": "markdown",
   "id": "b2a2044e",
   "metadata": {},
   "source": [
    "### 연관 관계 정의 규칙\n",
    "\n",
    "- 방향 : 단방향, 양방향 (객체 참조)\n",
    "- 연관 관계의 주인 : 양방향일 때, 연관 관계에서 관리 주체\n",
    "- 다중성 : 다대일(N:1), 일대다(1:N), 일대일(1:1), 다대다(N:M)\n"
   ]
  },
  {
   "cell_type": "markdown",
   "id": "88a4aa3a",
   "metadata": {},
   "source": [
    "## 1. 방향"
   ]
  },
  {
   "cell_type": "markdown",
   "id": "bb028df5",
   "metadata": {},
   "source": [
    "### 단방향, 양방향\n",
    "데이터베이스 테이블은 외래 키 하나로 양 쪽 테이블 조인이 가능\n",
    "\n",
    "따라서 데이터베이스는 단방향 양방향 개념이 없음\n",
    "\n",
    "하지만 객체는 참조용 필드가 따로 존재해야함 -> 두 객체 사이에 하나의 객체만 참조용 필드를 갖고 참조하면 단방향, 두 객체가 모두 각각 참조용 필드를 갖고 참조하면 양방향 관계"
   ]
  },
  {
   "cell_type": "markdown",
   "id": "559445fc",
   "metadata": {},
   "source": [
    "### 무조건 양방향 관계를 가지지 않는 이유\n",
    "#### 객체가 무조건 양방향 관계를 가질 경우\n",
    "예를 들어 하나의 객체가 여러 개의 객체들과 관계를 가지고 있다고 하면 그 객체는 굉장히 더러워 질것이다\n",
    "\n",
    "또한 그 객체와 연관되있는 객체들을 매핑할 때 불필요한 객체들도 같이 매핑되므로 복잡성이 훨씬 증가함"
   ]
  },
  {
   "cell_type": "markdown",
   "id": "d6628d2d",
   "metadata": {},
   "source": [
    "## 2. 연관 관계의 주인\n",
    "두 객체(A, B)가 양방향 관계, 다시 말해 단방향 관계 2개(A→B, B→A)를 맺을 때, 연관 관계의 주인을 지정해야 합니다.\n",
    "\n",
    "연관 관계의 주인을 지정 하는 것은 두 단방향 관계(A→B, B→A)중, 제어의 권한(외래 키를 비롯한 테이블 레코드를 저장, 수정, 삭제 처리)을 갖는 실질적인 관계가 어떤 것인지 JPA에게 알려준다고 생각하면 됩니다.\n",
    "\n",
    "연관 관계의 주인은 연관 관계를 갖는 두 객체 사이에서 조회, 저장, 수정, 삭제를 할 수 있지만, 연관 관계의 주인이 아니면 조회만 가능합니다.\n",
    "\n",
    "연관 관계의 주인이 아닌 객체에서 mappedBy 속성을 사용해서 주인을 지정해줘야합니다.\n",
    "\n",
    "TIP : 외래 키가 있는 곳을 연관 관계의 주인으로 정하면 됩니다. 무조건\n"
   ]
  },
  {
   "cell_type": "markdown",
   "id": "3c05702e",
   "metadata": {},
   "source": [
    "### 연관 관계의 주인을 맺어주는 이유\n",
    "양방향 연관 관계 관리 포인트가 두 개일 때는 테이블과 매핑을 담당하는 JPA입장에서 혼란을 준다.\n",
    "\n",
    "A와 B가 양방향 관계일 경우 A의 FK 를 수정해야할지 B의 FK를 수정해야할지 결정해야하기 때문!"
   ]
  },
  {
   "cell_type": "markdown",
   "id": "72f81650",
   "metadata": {},
   "source": [
    "### 그렇다면 연관관계 주인만 제어?\n",
    "두 참조를 사용하는 순수한 두 객체는 **데이터 동기화**를 해줘야하기 때문에 둘 다 변경하는 것이 좋음"
   ]
  },
  {
   "cell_type": "markdown",
   "id": "bc248595",
   "metadata": {},
   "source": [
    "## 3.다중성"
   ]
  },
  {
   "cell_type": "markdown",
   "id": "75422f64",
   "metadata": {},
   "source": [
    "### 데이터베이스를 기준으로 다중성을 결정\n",
    "\n",
    "(JPA는 JPQL도 그렇고 보통 객체를 기준으로 하는게 일반적인데 다중성을 정하는 기준은 데이터베이스 기준인게 신기합니다.)\n",
    "\n",
    "연관 관계는 대칭성을 갖습니다.\n",
    "- 일대다 ↔ 다대일\n",
    "- 일대일 ↔ 일대일\n",
    "- 다대다 ↔ 다대다\n"
   ]
  },
  {
   "cell_type": "markdown",
   "id": "91d6333f",
   "metadata": {},
   "source": [
    "### 다대일(N:1)"
   ]
  },
  {
   "cell_type": "markdown",
   "id": "7abd93a9",
   "metadata": {},
   "source": [
    "#### 다대일(N:1) 단방향\n",
    "주요 키워드 \n",
    "- @ManyToOne\n",
    "- Post : 주인 | Board : 하위\n",
    "```java\n",
    "@Entity \n",
    "public class Post { \n",
    "    @Id \n",
    "    @GeneratedValue \n",
    "    @Column(name = \"POST_ID\") \n",
    "    private Long id; \n",
    "\n",
    "    @Column(name = \"TITLE\")\n",
    "    private String title; \n",
    "\n",
    "    @ManyToOne \n",
    "    @JoinColumn(name = \"BOARD_ID\")\n",
    "    private Board board; \n",
    "    //... getter, setter\n",
    "}\n",
    "@Entity \n",
    "public class Board { \n",
    "    @Id \n",
    "    @GeneratedValue \n",
    "    private Long id; \n",
    "    private String title;\n",
    "    //... getter, setter\n",
    "}\n",
    "```"
   ]
  },
  {
   "cell_type": "markdown",
   "id": "13b40f35",
   "metadata": {},
   "source": [
    "#### 다대일(N:1) 양방향\n",
    "주요 키워드 \n",
    "- @ManyToOne & @OneToMany(mappedBy = ?)\n",
    "\n",
    "양방향 매핑을 사용하면 연관관계의 주인을 설정해주어야함 : (mappedBy = ?)\n",
    "\n",
    "- Post : 주인 | Board : 하위\n",
    "```java\n",
    "@Entity \n",
    "public class Post { \n",
    "    @Id \n",
    "    @GeneratedValue \n",
    "    @Column(name = \"POST_ID\") \n",
    "    private Long id;\n",
    "    \n",
    "    @Column(name = \"TITLE\") \n",
    "    private String title; \n",
    "    \n",
    "    @ManyToOne @JoinColumn(name = \"BOARD_ID\") \n",
    "    private Board board;\n",
    "    //... getter, setter \n",
    "} \n",
    "@Entity \n",
    "public class Board { \n",
    "    @Id \n",
    "    @GeneratedValue \n",
    "    private Long id; \n",
    "    private String title;\n",
    "    \n",
    "    @OneToMany(mappedBy = \"board\") \n",
    "    List<Post> posts = new ArrayList<>(); \n",
    "    //... getter, setter \n",
    "}\n",
    "```"
   ]
  },
  {
   "cell_type": "markdown",
   "id": "b07bcd07",
   "metadata": {},
   "source": [
    "### 일대일(1:1)"
   ]
  },
  {
   "cell_type": "markdown",
   "id": "a1692ed1",
   "metadata": {},
   "source": [
    "#### 일대일(1:1) 단방향\n",
    "주요 키워드 \n",
    "- @OneToOne\n",
    "\n",
    "- Post : 주인 | Board : 하위\n",
    "```java\n",
    "@Entity\n",
    "public class Post { \n",
    "    @Id \n",
    "    @GeneratedValue \n",
    "    @Column(name = \"POST_ID\") \n",
    "    private Long id;\n",
    "    \n",
    "    @Column(name = \"TITLE\") \n",
    "    private String title; \n",
    "    \n",
    "    @OneToOne \n",
    "    @JoinColumn(name = \"ATTACH_ID\") \n",
    "    private Attach attach; \n",
    "    //... getter,setter \n",
    "} \n",
    "@Entity \n",
    "public class Attach { \n",
    "    @Id \n",
    "    @GeneratedValue\n",
    "    @Column(name = \"ATTACH_ID\")\n",
    "    private Long id; \n",
    "    private String name; \n",
    "    //... getter, setter \n",
    "}\n",
    "```"
   ]
  },
  {
   "cell_type": "markdown",
   "id": "07193d54",
   "metadata": {},
   "source": [
    "#### 일대일(1:1) 양방향\n",
    "주요 키워드 \n",
    "- @OneToOne(mappedBy = \"attach\") \n",
    "\n",
    "양방향 매핑을 사용하면 연관관계의 주인을 설정해주어야함 : (mappedBy = ?)\n",
    "\n",
    "- Post : 주인 | Board : 하위\n",
    "```java\n",
    "@Entity\n",
    "public class Post { \n",
    "    @Id \n",
    "    @GeneratedValue \n",
    "    @Column(name = \"POST_ID\") \n",
    "    private Long id;\n",
    "    \n",
    "    @Column(name = \"TITLE\") \n",
    "    private String title; \n",
    "    \n",
    "    @OneToOne \n",
    "    @JoinColumn(name = \"ATTACH_ID\") \n",
    "    private Attach attach; \n",
    "    //... getter,setter \n",
    "} \n",
    "@Entity \n",
    "public class Attach { \n",
    "    @Id \n",
    "    @GeneratedValue\n",
    "    @Column(name = \"ATTACH_ID\")\n",
    "    private Long id; \n",
    "    private String name;\n",
    "    \n",
    "    @OneToOne(mappedBy = \"attach\") \n",
    "    private Post post;\n",
    "    //... getter, setter \n",
    "}\n",
    "```"
   ]
  },
  {
   "cell_type": "code",
   "execution_count": null,
   "id": "9d3d9fe7",
   "metadata": {},
   "outputs": [],
   "source": []
  }
 ],
 "metadata": {
  "kernelspec": {
   "display_name": "Python 3",
   "language": "python",
   "name": "python3"
  },
  "language_info": {
   "codemirror_mode": {
    "name": "ipython",
    "version": 3
   },
   "file_extension": ".py",
   "mimetype": "text/x-python",
   "name": "python",
   "nbconvert_exporter": "python",
   "pygments_lexer": "ipython3",
   "version": "3.8.8"
  }
 },
 "nbformat": 4,
 "nbformat_minor": 5
}
