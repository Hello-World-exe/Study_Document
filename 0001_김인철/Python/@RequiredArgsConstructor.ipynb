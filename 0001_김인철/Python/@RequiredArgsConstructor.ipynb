{
 "cells": [
  {
   "cell_type": "markdown",
   "id": "cbab6496",
   "metadata": {},
   "source": [
    "# @RequiredArgsConstructor"
   ]
  },
  {
   "cell_type": "markdown",
   "id": "aab8ec2e",
   "metadata": {},
   "source": [
    "- Lombok"
   ]
  },
  {
   "cell_type": "markdown",
   "id": "991bea28",
   "metadata": {},
   "source": [
    "**@NonNull이나 final이 붙은 필드에 대한 생성자를 생성한다.**\n"
   ]
  },
  {
   "cell_type": "markdown",
   "id": "c1b3865a",
   "metadata": {},
   "source": [
    "## 사용 예제\n",
    "```java\n",
    "  /** @RequiredArgsConstructor 미사용 */\n",
    "  @Controller\n",
    "  public class AAAController {\n",
    "      private final AAAService aaaService;\n",
    "      private final BBBService bbbService;\n",
    "      private final CCCService cccService;\n",
    "\n",
    "      public AAAController(AAAService aaaService, BBBService bbbService, CCCService cccService) {\n",
    "          this.aaaService = aaaService;\n",
    "          this.bbbService = bbbService;\n",
    "          this.cccService = cccService;\n",
    "      }\n",
    "  }\n",
    "\n",
    "  /** @RequiredArgsConstructor 사용 */\n",
    "  @Controller\n",
    "  @RequiredArgsConstructor\n",
    "  public class AAAController {\n",
    "      private final AAAService aaaService;\n",
    "      private final BBBService bbbService;\n",
    "      private final CCCService cccService;\n",
    "  }\n",
    "\n",
    "```"
   ]
  }
 ],
 "metadata": {
  "kernelspec": {
   "display_name": "Python 3",
   "language": "python",
   "name": "python3"
  },
  "language_info": {
   "codemirror_mode": {
    "name": "ipython",
    "version": 3
   },
   "file_extension": ".py",
   "mimetype": "text/x-python",
   "name": "python",
   "nbconvert_exporter": "python",
   "pygments_lexer": "ipython3",
   "version": "3.8.8"
  }
 },
 "nbformat": 4,
 "nbformat_minor": 5
}
