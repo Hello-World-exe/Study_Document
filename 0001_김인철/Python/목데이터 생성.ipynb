{
 "cells": [
  {
   "cell_type": "code",
   "execution_count": 1,
   "id": "9734bdf7",
   "metadata": {},
   "outputs": [],
   "source": [
    "from faker import Faker\n",
    "import pandas as pd\n",
    "import datetime\n",
    "import random\n",
    "\n"
   ]
  },
  {
   "cell_type": "code",
   "execution_count": 2,
   "id": "44b00609",
   "metadata": {},
   "outputs": [
    {
     "data": {
      "text/plain": [
       "[('김승현', '전라남도 강릉시 양재천7거리 (수빈김면)'),\n",
       " ('안숙자', '전라북도 안산시 삼성112로'),\n",
       " ('박정훈', '대전광역시 북구 서초중앙로'),\n",
       " ('박현주', '대구광역시 서구 논현061거리'),\n",
       " ('송서준', '충청북도 고양시 일산서구 개포거리 (서현오성면)'),\n",
       " ('이은서', '부산광역시 관악구 논현거리'),\n",
       " ('손승현', '대구광역시 송파구 서초중앙거리 (춘자김김동)'),\n",
       " ('성옥순', '제주특별자치도 화천군 석촌호수74가'),\n",
       " ('이하은', '제주특별자치도 부천시 소사구 개포길'),\n",
       " ('백건우', '인천광역시 서구 선릉가 (상철박이면)'),\n",
       " ('송준영', '세종특별자치시 광진구 오금59길'),\n",
       " ('곽서윤', '부산광역시 중구 테헤란가'),\n",
       " ('배성호', '울산광역시 북구 역삼길'),\n",
       " ('서영수', '전라북도 오산시 백제고분거리 (성수이김리)'),\n",
       " ('김준영', '경상남도 용인시 기흥구 압구정29로'),\n",
       " ('김주원', '울산광역시 마포구 서초대281로 (하윤임김리)'),\n",
       " ('김도현', '제주특별자치도 수원시 권선구 오금로 (병철이면)'),\n",
       " ('김지후', '전라북도 안양시 석촌호수80로 (성민서리)'),\n",
       " ('김영숙', '세종특별자치시 동구 반포대101가'),\n",
       " ('이영철', '전라북도 의정부시 석촌호수가 (정희김동)'),\n",
       " ('이성호', '강원도 홍성군 서초대8길 (혜진송면)'),\n",
       " ('손예원', '대전광역시 마포구 백제고분거리 (채원성김마을)'),\n",
       " ('양재현', '제주특별자치도 평창군 압구정길 (영철김박동)'),\n",
       " ('김동현', '강원도 삼척시 테헤란길 (민재이김리)'),\n",
       " ('이예진', '강원도 천안시 서북구 언주593로'),\n",
       " ('김예은', '경상남도 부여군 역삼245로'),\n",
       " ('한정순', '대전광역시 강북구 오금323거리 (승민최김면)'),\n",
       " ('김정웅', '세종특별자치시 용산구 언주가 (지은김마을)'),\n",
       " ('강예지', '충청북도 구리시 백제고분로'),\n",
       " ('이서영', '광주광역시 동작구 삼성917거리')]"
      ]
     },
     "execution_count": 2,
     "metadata": {},
     "output_type": "execute_result"
    }
   ],
   "source": [
    "fake = Faker('ko-KR')\n",
    "test_data = [(fake.name(), fake.address()) for i in range(30)]\n",
    "test_data"
   ]
  },
  {
   "cell_type": "markdown",
   "id": "cd14265d",
   "metadata": {},
   "source": [
    "## 자동화"
   ]
  },
  {
   "cell_type": "code",
   "execution_count": 70,
   "id": "30dfacbc",
   "metadata": {},
   "outputs": [],
   "source": [
    "file_name = ''\n",
    "record = 10\n",
    "\n",
    "df = pd.read_csv(file_name,index_col=0)\n",
    "header_list = df.columns.values.tolist()\n",
    "for i in range(1,record+1):\n",
    "    new_record = {}\n",
    "    year = random.randrange(2000,2022)\n",
    "    month = random.randrange(1,13)\n",
    "    day = random.randrange(1,29)\n",
    "    hour = random.randrange(0,24)\n",
    "    min = random.randrange(0,60)\n",
    "    sec = random.randrange(0,60)\n",
    "    \n",
    "    user = fake.name()\n",
    "    for header in header_list:\n",
    "        if header == 'id':\n",
    "            new_record[header] = i\n",
    "        elif header == 'created_at':\n",
    "            new_record[header] = datetime.datetime(year,month,day,hour,min,sec)\n",
    "        elif header == 'updated_at':\n",
    "            new_record[header] = datetime.datetime(year,month,day,hour,min,sec)\n",
    "        elif not header.find(\"is_\"):\n",
    "            new_record[header] = random.choice([True,False])\n",
    "        elif header in '_date':\n",
    "            new_record[header] = datetime.datetime(year,month,day,hour,min,sec)\n",
    "        elif header in 'phone':\n",
    "            new_record[header] = fake.phone_number()\n",
    "        elif header == 'role':\n",
    "            new_record[header] = 'ROLE_USER'\n",
    "        elif header == 'name':\n",
    "            new_record[header] = user\n",
    "        elif header == 'updated_by':\n",
    "            new_record[header] = user\n",
    "        elif header == 'user_id':\n",
    "            new_record[header] = fake.catch_phrase()\n",
    "        else:\n",
    "            new_record[header] = None;\n",
    "    df = df.append(new_record, ignore_index=True)\n",
    "\n",
    "    \n",
    "df.to_csv('result_'+file_name)\n",
    "        \n",
    "            \n",
    "            "
   ]
  },
  {
   "cell_type": "code",
   "execution_count": 50,
   "id": "9c2635c6",
   "metadata": {},
   "outputs": [
    {
     "data": {
      "text/plain": [
       "['id',\n",
       " 'created_at',\n",
       " 'attendance',\n",
       " 'country',\n",
       " 'created_by',\n",
       " 'genre',\n",
       " 'grade',\n",
       " 'introduce',\n",
       " 'is_collect',\n",
       " 'kind',\n",
       " 'kmrb_type',\n",
       " 'release_date',\n",
       " 'rotten_tomato',\n",
       " 'run_time',\n",
       " 'status',\n",
       " 'title',\n",
       " 'updated_at',\n",
       " 'updated_by',\n",
       " 'image_path']"
      ]
     },
     "execution_count": 50,
     "metadata": {},
     "output_type": "execute_result"
    }
   ],
   "source": [
    "header_list"
   ]
  },
  {
   "cell_type": "markdown",
   "id": "69faf0e7",
   "metadata": {},
   "source": [
    "## Media 목데이터 생성"
   ]
  },
  {
   "cell_type": "code",
   "execution_count": 6,
   "id": "051054dc",
   "metadata": {},
   "outputs": [
    {
     "data": {
      "text/plain": [
       "['id',\n",
       " 'created_at',\n",
       " 'attendance',\n",
       " 'content_title',\n",
       " 'country',\n",
       " 'created_by',\n",
       " 'description',\n",
       " 'genre',\n",
       " 'image',\n",
       " 'is_collect',\n",
       " 'kind',\n",
       " 'regulation',\n",
       " 'release_date',\n",
       " 'running_time',\n",
       " 'series_no',\n",
       " 'star_rate',\n",
       " 'status',\n",
       " 'tomato',\n",
       " 'updated_at',\n",
       " 'updated_by']"
      ]
     },
     "execution_count": 6,
     "metadata": {},
     "output_type": "execute_result"
    }
   ],
   "source": [
    "file_name = 'media_202111221218.csv'\n",
    "record = 100\n",
    "\n",
    "df = pd.read_csv(\"table/\"+file_name)\n",
    "header_list = df.columns.values.tolist()\n",
    "header_list"
   ]
  },
  {
   "cell_type": "code",
   "execution_count": 8,
   "id": "3b8603a9",
   "metadata": {},
   "outputs": [],
   "source": [
    "file_name = 'media_202111221218.csv'\n",
    "record = 100\n",
    "\n",
    "df = pd.read_csv(\"table/\"+file_name)\n",
    "header_list = df.columns.values.tolist()\n",
    "for i in range(1,record+1):\n",
    "    new_record = {}\n",
    "    year = random.randrange(2000,2022)\n",
    "    month = random.randrange(1,13)\n",
    "    day = random.randrange(1,29)\n",
    "    hour = random.randrange(0,24)\n",
    "    min = random.randrange(0,60)\n",
    "    sec = random.randrange(0,60)\n",
    "    \n",
    "    user = fake.name()\n",
    "    df_date = datetime.datetime(year,month,day,hour,min,sec)\n",
    "    \n",
    "    year = random.randrange(2000,2022)\n",
    "    month = random.randrange(1,13)\n",
    "    day = random.randrange(1,29)\n",
    "    hour = random.randrange(0,24)\n",
    "    min = random.randrange(0,60)\n",
    "    sec = random.randrange(0,60)\n",
    "    \n",
    "    df_date2 = datetime.datetime(year,month,day)\n",
    "    df_hour2 = datetime.datetime(2000,1,1,hour,min,sec)\n",
    "    \n",
    "    \n",
    "    new_record['id'] = i\n",
    "    new_record['created_at'] = df_date\n",
    "    new_record['attendance'] = random.randrange(0,1000)\n",
    "    new_record['content_title'] = fake.catch_phrase()\n",
    "    new_record['country'] = fake.country()\n",
    "    new_record['created_by'] = user\n",
    "    new_record['description'] = fake.catch_phrase()\n",
    "    new_record['genre'] = random.choice([\"스릴러\",\"공포\",\"코미디\",\"순정\",\"다큐멘터리\"])\n",
    "    new_record['image'] = \"develop\"\n",
    "    new_record['is_collect'] = random.choice([1,0])\n",
    "    new_record['kind'] = random.choice([\"드라마\",\"TV쇼\",\"영화\"])\n",
    "    new_record['regulation'] = random.choice([0,1,2,3,4,5,6,7])\n",
    "    new_record['release_date'] = df_date2\n",
    "    new_record['running_time'] =\"2021-01-01\"\n",
    "    \n",
    "    new_record['star_rate'] = int(random.uniform(0,11))/2\n",
    "    new_record['status'] = random.choice([1,0])\n",
    "    new_record['tomato'] = int(random.uniform(0,100))\n",
    "    \n",
    "    new_record['updated_at'] = df_date\n",
    "    new_record['updated_by'] = user\n",
    "    \n",
    "    \n",
    "    df = df.append(new_record, ignore_index=True)\n",
    "    \n",
    "df.to_csv('result/result_'+file_name,encoding='utf-8-sig',index=False)\n",
    "        "
   ]
  },
  {
   "cell_type": "markdown",
   "id": "2c8c15b4",
   "metadata": {},
   "source": [
    "## Mania 목데이터 생성"
   ]
  },
  {
   "cell_type": "code",
   "execution_count": 6,
   "id": "4a9ec356",
   "metadata": {},
   "outputs": [
    {
     "data": {
      "text/plain": [
       "['id',\n",
       " 'created_at',\n",
       " 'introduce',\n",
       " 'keyword',\n",
       " 'name',\n",
       " 'status',\n",
       " 'updated_at',\n",
       " 'updated_by']"
      ]
     },
     "execution_count": 6,
     "metadata": {},
     "output_type": "execute_result"
    }
   ],
   "source": [
    "file_name = 'mania_202111170928.csv'\n",
    "record = 100\n",
    "\n",
    "df = pd.read_csv(\"table/\"+file_name)\n",
    "header_list = df.columns.values.tolist()\n",
    "header_list"
   ]
  },
  {
   "cell_type": "code",
   "execution_count": 9,
   "id": "e59ac29b",
   "metadata": {},
   "outputs": [],
   "source": [
    "file_name = 'mania_202111170928.csv'\n",
    "record = 100\n",
    "\n",
    "df = pd.read_csv(\"table/\"+file_name)\n",
    "header_list = df.columns.values.tolist()\n",
    "for i in range(1,record+1):\n",
    "    new_record = {}\n",
    "    year = random.randrange(2000,2022)\n",
    "    month = random.randrange(1,13)\n",
    "    day = random.randrange(1,29)\n",
    "    hour = random.randrange(0,24)\n",
    "    min = random.randrange(0,60)\n",
    "    sec = random.randrange(0,60)\n",
    "    \n",
    "    user = fake.name()\n",
    "    df_date = datetime.datetime(year,month,day,hour,min,sec)\n",
    "    \n",
    "    year = random.randrange(2000,2022)\n",
    "    month = random.randrange(1,13)\n",
    "    day = random.randrange(1,29)\n",
    "    hour = random.randrange(0,24)\n",
    "    min = random.randrange(0,60)\n",
    "    sec = random.randrange(0,60)\n",
    "    \n",
    "    df_date2 = datetime.datetime(year,month,day)\n",
    "    df_hour2 = datetime.datetime(2000,1,1,hour,min,sec)\n",
    "    \n",
    "    \n",
    "    new_record['id'] = i\n",
    "    new_record['created_at'] = df_date\n",
    "    new_record['introduce'] = fake.catch_phrase()\n",
    "    new_record['keyword'] = random.choice([\"스릴러\",\"공포\",\"코미디\",\"순정\",\"다큐멘터리\"])\n",
    "    new_record['name'] = user\n",
    "    new_record['status'] = random.choice([1,0])\n",
    "    new_record['updated_at'] = df_date\n",
    "    new_record['updated_by'] = \"리뷰팟관리자\"\n",
    "    \n",
    "    df = df.append(new_record, ignore_index=True)\n",
    "    \n",
    "df.to_csv('result/result_'+file_name,encoding='utf-8-sig',index=False)\n",
    "        "
   ]
  },
  {
   "cell_type": "markdown",
   "id": "a31aa8c0",
   "metadata": {},
   "source": [
    "## Performer 목데이터 생성"
   ]
  },
  {
   "cell_type": "code",
   "execution_count": 4,
   "id": "d06e30b9",
   "metadata": {},
   "outputs": [
    {
     "data": {
      "text/plain": [
       "['id',\n",
       " 'created_at',\n",
       " 'career',\n",
       " 'introduce',\n",
       " 'name',\n",
       " 'status',\n",
       " 'updated_at',\n",
       " 'updated_by']"
      ]
     },
     "execution_count": 4,
     "metadata": {},
     "output_type": "execute_result"
    }
   ],
   "source": [
    "file_name = 'performer_202111211526.csv'\n",
    "record = 100\n",
    "\n",
    "df = pd.read_csv(\"table/\"+file_name)\n",
    "header_list = df.columns.values.tolist()\n",
    "header_list"
   ]
  },
  {
   "cell_type": "code",
   "execution_count": 8,
   "id": "94a56cce",
   "metadata": {},
   "outputs": [],
   "source": [
    "file_name = 'performer_202111211526.csv'\n",
    "record = 100\n",
    "\n",
    "df = pd.read_csv(\"table/\"+file_name)\n",
    "header_list = df.columns.values.tolist()\n",
    "for i in range(1,record+1):\n",
    "    new_record = {}\n",
    "    year = random.randrange(2000,2022)\n",
    "    month = random.randrange(1,13)\n",
    "    day = random.randrange(1,29)\n",
    "    hour = random.randrange(0,24)\n",
    "    min = random.randrange(0,60)\n",
    "    sec = random.randrange(0,60)\n",
    "    \n",
    "    user = fake.name()\n",
    "    df_date = datetime.datetime(year,month,day,hour,min,sec)\n",
    "    \n",
    "    year = random.randrange(2000,2022)\n",
    "    month = random.randrange(1,13)\n",
    "    day = random.randrange(1,29)\n",
    "    hour = random.randrange(0,24)\n",
    "    min = random.randrange(0,60)\n",
    "    sec = random.randrange(0,60)\n",
    "    \n",
    "    df_date2 = datetime.datetime(year,month,day)\n",
    "    df_hour2 = datetime.datetime(2000,1,1,hour,min,sec)\n",
    "    \n",
    "    \n",
    "    new_record['id'] = i\n",
    "    new_record['created_at'] = df_date\n",
    "    new_record['introduce'] = fake.catch_phrase()\n",
    "    new_record['name'] = user\n",
    "    new_record['status'] = random.choice([1,0])\n",
    "    new_record['career'] = random.choice([\"ACTOR\",\"DIRECTOR\",\"BOTH\"])\n",
    "    new_record['updated_at'] = df_date\n",
    "    new_record['updated_by'] = \"리뷰팟관리자\"\n",
    "    \n",
    "    df = df.append(new_record, ignore_index=True)\n",
    "    \n",
    "df.to_csv('result/result_'+file_name,encoding='utf-8-sig',index=False)\n",
    "        "
   ]
  },
  {
   "cell_type": "markdown",
   "id": "c1ae056f",
   "metadata": {},
   "source": [
    "## PerformerMedia 목데이터 생성"
   ]
  },
  {
   "cell_type": "code",
   "execution_count": 3,
   "id": "6a3ff0f4",
   "metadata": {},
   "outputs": [
    {
     "data": {
      "text/plain": [
       "['id', 'created_at', 'media_id', 'performer_id', 'casting']"
      ]
     },
     "execution_count": 3,
     "metadata": {},
     "output_type": "execute_result"
    }
   ],
   "source": [
    "file_name = 'performer_media_202111230939.csv'\n",
    "record = 1000\n",
    "\n",
    "df = pd.read_csv(\"table/\"+file_name)\n",
    "header_list = df.columns.values.tolist()\n",
    "header_list"
   ]
  },
  {
   "cell_type": "code",
   "execution_count": 12,
   "id": "55525c0f",
   "metadata": {},
   "outputs": [],
   "source": [
    "file_name = 'performer_media_202111230939.csv'\n",
    "record = 1000\n",
    "\n",
    "df = pd.read_csv(\"table/\"+file_name)\n",
    "header_list = df.columns.values.tolist()\n",
    "for j in range(1,100):\n",
    "    cnt = 0\n",
    "    for i in range(1,10):\n",
    "        new_record = {}\n",
    "        year = random.randrange(2000,2022)\n",
    "        month = random.randrange(1,13)\n",
    "        day = random.randrange(1,29)\n",
    "        hour = random.randrange(0,24)\n",
    "        min = random.randrange(0,60)\n",
    "        sec = random.randrange(0,60)\n",
    "\n",
    "        user = fake.name()\n",
    "        df_date = datetime.datetime(year,month,day,hour,min,sec)\n",
    "\n",
    "        year = random.randrange(2000,2022)\n",
    "        month = random.randrange(1,13)\n",
    "        day = random.randrange(1,29)\n",
    "        hour = random.randrange(0,24)\n",
    "        min = random.randrange(0,60)\n",
    "        sec = random.randrange(0,60)\n",
    "\n",
    "        df_date2 = datetime.datetime(year,month,day)\n",
    "        df_hour2 = datetime.datetime(2000,1,1,hour,min,sec)\n",
    "\n",
    "\n",
    "        new_record['id'] = 10*(j-1)+i\n",
    "        new_record['created_at'] = df_date\n",
    "        \n",
    "        new_record['media_id'] = j\n",
    "        if cnt != 0:\n",
    "            new_record['performer_id'] =random.randrange(1,100)\n",
    "            new_record['casting'] = user+' 역'\n",
    "            cnt = cnt+1\n",
    "        else:\n",
    "            new_record['performer_id'] = 1\n",
    "            cnt = cnt+1\n",
    "        \n",
    "\n",
    "        df = df.append(new_record, ignore_index=True)\n",
    "\n",
    "df.to_csv('result/result_'+file_name,encoding='utf-8-sig',index=False)"
   ]
  },
  {
   "cell_type": "markdown",
   "id": "fdb36836",
   "metadata": {},
   "source": [
    "## MainContents 목데이터 생성"
   ]
  },
  {
   "cell_type": "code",
   "execution_count": 13,
   "id": "4eca9e72",
   "metadata": {},
   "outputs": [
    {
     "data": {
      "text/plain": [
       "['id',\n",
       " 'created_at',\n",
       " 'content_type',\n",
       " 'created_by',\n",
       " 'expose_num',\n",
       " 'keyword',\n",
       " 'status',\n",
       " 'theme_name',\n",
       " 'updated_at',\n",
       " 'updated_by']"
      ]
     },
     "execution_count": 13,
     "metadata": {},
     "output_type": "execute_result"
    }
   ],
   "source": [
    "file_name = 'main_contents_202111170944.csv'\n",
    "record = 100\n",
    "\n",
    "df = pd.read_csv(\"table/\"+file_name)\n",
    "header_list = df.columns.values.tolist()\n",
    "header_list"
   ]
  },
  {
   "cell_type": "code",
   "execution_count": 16,
   "id": "f920f588",
   "metadata": {},
   "outputs": [],
   "source": [
    "file_name = 'main_contents_202111170944.csv'\n",
    "record = 100\n",
    "\n",
    "df = pd.read_csv(\"table/\"+file_name)\n",
    "header_list = df.columns.values.tolist()\n",
    "for i in range(1,record+1):\n",
    "    new_record = {}\n",
    "    year = random.randrange(2000,2022)\n",
    "    month = random.randrange(1,13)\n",
    "    day = random.randrange(1,29)\n",
    "    hour = random.randrange(0,24)\n",
    "    min = random.randrange(0,60)\n",
    "    sec = random.randrange(0,60)\n",
    "    \n",
    "    user = fake.name()\n",
    "    df_date = datetime.datetime(year,month,day,hour,min,sec)\n",
    "    \n",
    "    year = random.randrange(2000,2022)\n",
    "    month = random.randrange(1,13)\n",
    "    day = random.randrange(1,29)\n",
    "    hour = random.randrange(0,24)\n",
    "    min = random.randrange(0,60)\n",
    "    sec = random.randrange(0,60)\n",
    "    \n",
    "    df_date2 = datetime.datetime(year,month,day)\n",
    "    df_hour2 = datetime.datetime(2000,1,1,hour,min,sec)\n",
    "    \n",
    "    \n",
    "    new_record['id'] = i\n",
    "    new_record['created_at'] = df_date\n",
    "    new_record['content_type'] = random.choice([2,1,0])\n",
    "    new_record['created_by'] = \"리뷰팟관리자\"\n",
    "    new_record['expose_num'] = i\n",
    "    new_record['keyword'] = \"#\"+fake.catch_phrase().replace(\" \",\" #\")\n",
    "    new_record['status'] = random.choice([1,0])\n",
    "    new_record['theme_name'] = random.choice([\"스릴러\",\"공포\",\"코미디\",\"순정\",\"다큐멘터리\"])\n",
    "    new_record['updated_at'] = df_date\n",
    "    new_record['updated_by'] = \"리뷰팟관리자\"\n",
    "    \n",
    "    df = df.append(new_record, ignore_index=True)\n",
    "    \n",
    "df.to_csv('result/result_'+file_name,encoding='utf-8-sig',index=False)\n",
    "        "
   ]
  },
  {
   "cell_type": "markdown",
   "id": "8c2a5702",
   "metadata": {},
   "source": [
    "## MainContentsMedia 목데이터 생성"
   ]
  },
  {
   "cell_type": "code",
   "execution_count": 3,
   "id": "6138e2af",
   "metadata": {},
   "outputs": [
    {
     "data": {
      "text/plain": [
       "['id', 'created_at', 'status', 'main_contents_id', 'media_id']"
      ]
     },
     "execution_count": 3,
     "metadata": {},
     "output_type": "execute_result"
    }
   ],
   "source": [
    "file_name = 'main_contents_202111170944.csv'\n",
    "record = 100\n",
    "\n",
    "df = pd.read_csv(\"table/\"+file_name)\n",
    "header_list = df.columns.values.tolist()\n",
    "header_list"
   ]
  },
  {
   "cell_type": "code",
   "execution_count": 7,
   "id": "729fa20b",
   "metadata": {},
   "outputs": [],
   "source": [
    "file_name = 'main_contents_media_202111180939.csv'\n",
    "record = 70\n",
    "\n",
    "df = pd.read_csv(\"table/\"+file_name)\n",
    "header_list = df.columns.values.tolist()\n",
    "for i in range(70,):\n",
    "    new_record = {}\n",
    "    year = random.randrange(2000,2022)\n",
    "    month = random.randrange(1,13)\n",
    "    day = random.randrange(1,29)\n",
    "    hour = random.randrange(0,24)\n",
    "    min = random.randrange(0,60)\n",
    "    sec = random.randrange(0,60)\n",
    "    \n",
    "    user = fake.name()\n",
    "    df_date = datetime.datetime(year,month,day,hour,min,sec)\n",
    "    \n",
    "    year = random.randrange(2000,2022)\n",
    "    month = random.randrange(1,13)\n",
    "    day = random.randrange(1,29)\n",
    "    hour = random.randrange(0,24)\n",
    "    min = random.randrange(0,60)\n",
    "    sec = random.randrange(0,60)\n",
    "    \n",
    "    df_date2 = datetime.datetime(year,month,day)\n",
    "    df_hour2 = datetime.datetime(2000,1,1,hour,min,sec)\n",
    "    \n",
    "    \n",
    "    new_record['id'] = i\n",
    "    new_record['created_at'] = df_date\n",
    "    new_record['status'] = random.choice([1,0])\n",
    "    new_record['main_contents_id'] = int(i/10)+1\n",
    "    new_record['media_id'] = random.randrange(1,100)\n",
    "    \n",
    "    \n",
    "    df = df.append(new_record, ignore_index=True)\n",
    "    \n",
    "df.to_csv('result/result_'+file_name,encoding='utf-8-sig',index=False)\n",
    "        "
   ]
  },
  {
   "cell_type": "markdown",
   "id": "69a69d00",
   "metadata": {},
   "source": [
    "## AccountWithdrawal 목데이터 생성"
   ]
  },
  {
   "cell_type": "code",
   "execution_count": 12,
   "id": "59c0bff7",
   "metadata": {},
   "outputs": [
    {
     "data": {
      "text/plain": [
       "['id',\n",
       " 'created_at',\n",
       " 'is_sleep',\n",
       " 'line_introduce',\n",
       " 'name',\n",
       " 'password',\n",
       " 'phone',\n",
       " 'role',\n",
       " 'sleep_date',\n",
       " 'updated_at',\n",
       " 'updated_by',\n",
       " 'updated_login_type',\n",
       " 'user_id']"
      ]
     },
     "execution_count": 12,
     "metadata": {},
     "output_type": "execute_result"
    }
   ],
   "source": [
    "file_name = 'account_withdrawal_202111181702.csv'\n",
    "record = 500\n",
    "\n",
    "df = pd.read_csv(\"table/\"+file_name)\n",
    "header_list = df.columns.values.tolist()\n",
    "header_list"
   ]
  },
  {
   "cell_type": "code",
   "execution_count": 13,
   "id": "c5f2702f",
   "metadata": {},
   "outputs": [],
   "source": [
    "file_name = 'account_withdrawal_202111181702.csv'\n",
    "record = 500\n",
    "\n",
    "df = pd.read_csv(\"table/\"+file_name)\n",
    "header_list = df.columns.values.tolist()\n",
    "for i in range(1,record+1):\n",
    "    new_record = {}\n",
    "    year = random.randrange(2000,2022)\n",
    "    month = random.randrange(1,13)\n",
    "    day = random.randrange(1,29)\n",
    "    hour = random.randrange(0,24)\n",
    "    min = random.randrange(0,60)\n",
    "    sec = random.randrange(0,60)\n",
    "    \n",
    "    user = fake.name()\n",
    "    df_date = datetime.datetime(year,month,day,hour,min,sec)\n",
    "    \n",
    "    year = random.randrange(2000,2022)\n",
    "    month = random.randrange(1,13)\n",
    "    day = random.randrange(1,29)\n",
    "    hour = random.randrange(0,24)\n",
    "    min = random.randrange(0,60)\n",
    "    sec = random.randrange(0,60)\n",
    "    \n",
    "    df_date2 = datetime.datetime(year,month,day)\n",
    "    df_hour2 = datetime.datetime(2000,1,1,hour,min,sec)\n",
    "    \n",
    "    \n",
    "    new_record['id'] = i\n",
    "    new_record['created_at'] = df_date\n",
    "    new_record['is_sleep'] = random.choice([1,0])\n",
    "    new_record['line_introduce'] = fake.catch_phrase()\n",
    "    new_record['name'] = user\n",
    "    new_record['password'] = fake.ipv4_private()\n",
    "    new_record['phone'] = fake.phone_number()\n",
    "    new_record['role'] = random.choice([1,0])\n",
    "    new_record['sleep_date'] = None\n",
    "    new_record['updated_at'] = df_date\n",
    "    new_record['updated_by'] = user\n",
    "    new_record['updated_login_type'] = None\n",
    "    new_record['user_id'] = fake.text().split(\" \")[0]+str(i)\n",
    "    \n",
    "    \n",
    "    df = df.append(new_record, ignore_index=True)\n",
    "    \n",
    "df.to_csv('result/result_'+file_name,encoding='utf-8-sig',index=False)\n",
    "        "
   ]
  },
  {
   "cell_type": "markdown",
   "id": "dcf07d25",
   "metadata": {},
   "source": [
    "## MediaRelate 목데이터 생성"
   ]
  },
  {
   "cell_type": "code",
   "execution_count": 8,
   "id": "b6f3859f",
   "metadata": {},
   "outputs": [
    {
     "data": {
      "text/plain": [
       "['id', 'created_at', 'ch_name', 'is_main', 'name', 'url', 'media_id']"
      ]
     },
     "execution_count": 8,
     "metadata": {},
     "output_type": "execute_result"
    }
   ],
   "source": [
    "file_name = 'media_relate_202111181347.csv'\n",
    "record = 1000\n",
    "\n",
    "df = pd.read_csv(\"table/\"+file_name)\n",
    "header_list = df.columns.values.tolist()\n",
    "header_list"
   ]
  },
  {
   "cell_type": "code",
   "execution_count": 11,
   "id": "b3af09e0",
   "metadata": {},
   "outputs": [],
   "source": [
    "file_name = 'media_relate_202111181347.csv'\n",
    "record = 1000\n",
    "\n",
    "df = pd.read_csv(\"table/\"+file_name)\n",
    "header_list = df.columns.values.tolist()\n",
    "for i in range(1,record+1):\n",
    "    new_record = {}\n",
    "    year = random.randrange(2000,2022)\n",
    "    month = random.randrange(1,13)\n",
    "    day = random.randrange(1,29)\n",
    "    hour = random.randrange(0,24)\n",
    "    min = random.randrange(0,60)\n",
    "    sec = random.randrange(0,60)\n",
    "    \n",
    "    user = fake.name()\n",
    "    df_date = datetime.datetime(year,month,day,hour,min,sec)\n",
    "    \n",
    "    year = random.randrange(2000,2022)\n",
    "    month = random.randrange(1,13)\n",
    "    day = random.randrange(1,29)\n",
    "    hour = random.randrange(0,24)\n",
    "    min = random.randrange(0,60)\n",
    "    sec = random.randrange(0,60)\n",
    "    \n",
    "    df_date2 = datetime.datetime(year,month,day)\n",
    "    df_hour2 = datetime.datetime(2000,1,1,hour,min,sec)\n",
    "    \n",
    "    \n",
    "    new_record['id'] = i\n",
    "    new_record['created_at'] = df_date\n",
    "    new_record['ch_name'] = \"FTCH00\"+str(random.randrange(1,10))\n",
    "    new_record['is_main'] = random.choice([1,0])\n",
    "    new_record['name'] = fake.catch_phrase()\n",
    "    new_record['url'] = fake.url()\n",
    "    new_record['media_id'] = random.randrange(1,100)\n",
    "    \n",
    "    \n",
    "    df = df.append(new_record, ignore_index=True)\n",
    "    \n",
    "df.to_csv('result/result_'+file_name,encoding='utf-8-sig',index=False)\n",
    "        "
   ]
  },
  {
   "cell_type": "markdown",
   "id": "67b76639",
   "metadata": {},
   "source": [
    "## Account 목데이터 생성"
   ]
  },
  {
   "cell_type": "code",
   "execution_count": 58,
   "id": "88c84512",
   "metadata": {},
   "outputs": [
    {
     "data": {
      "text/plain": [
       "['id',\n",
       " 'created_at',\n",
       " 'auto_login',\n",
       " 'auto_login_end_date',\n",
       " 'is_sleep',\n",
       " 'last_login_social_type',\n",
       " 'line_introduce',\n",
       " 'marketing_agreement',\n",
       " 'name',\n",
       " 'password',\n",
       " 'phone',\n",
       " 'profile_path',\n",
       " 'provide_agreement',\n",
       " 'role',\n",
       " 'sleep_date',\n",
       " 'updated_at',\n",
       " 'updated_by',\n",
       " 'updated_login_type',\n",
       " 'user_id']"
      ]
     },
     "execution_count": 58,
     "metadata": {},
     "output_type": "execute_result"
    }
   ],
   "source": [
    "file_name = 'account_202111170955.csv'\n",
    "record = 100\n",
    "\n",
    "df = pd.read_csv(\"table/\"+file_name)\n",
    "header_list = df.columns.values.tolist()\n",
    "header_list"
   ]
  },
  {
   "cell_type": "code",
   "execution_count": 60,
   "id": "e0d3da1d",
   "metadata": {},
   "outputs": [],
   "source": [
    "file_name = 'account_202111170955.csv'\n",
    "record = 100\n",
    "\n",
    "df = pd.read_csv(\"table/\"+file_name)\n",
    "header_list = df.columns.values.tolist()\n",
    "for i in range(2,record+1):\n",
    "    new_record = {}\n",
    "    year = random.randrange(2000,2022)\n",
    "    month = random.randrange(1,13)\n",
    "    day = random.randrange(1,29)\n",
    "    hour = random.randrange(0,24)\n",
    "    min = random.randrange(0,60)\n",
    "    sec = random.randrange(0,60)\n",
    "    \n",
    "    user = fake.name()\n",
    "    df_date = datetime.datetime(year,month,day,hour,min,sec)\n",
    "    \n",
    "    year = random.randrange(2000,2022)\n",
    "    month = random.randrange(1,13)\n",
    "    day = random.randrange(1,29)\n",
    "    hour = random.randrange(0,24)\n",
    "    min = random.randrange(0,60)\n",
    "    sec = random.randrange(0,60)\n",
    "    \n",
    "    df_date2 = datetime.datetime(year,month,day)\n",
    "    df_hour2 = datetime.datetime(2000,1,1,hour,min,sec)\n",
    "    \n",
    "    \n",
    "    new_record['id'] = i\n",
    "    new_record['created_at'] = df_date\n",
    "    new_record['auto_login'] = 0\n",
    "    new_record['auto_login_end_date'] = None\n",
    "    new_record['is_sleep'] = random.choice([1,0])\n",
    "    new_record['last_login_social_type'] = None\n",
    "    new_record['line_introduce'] = fake.catch_phrase()\n",
    "    new_record['marketing_agreement'] = random.choice([1,0])\n",
    "    new_record['name'] = user\n",
    "    new_record['password'] = fake.ipv4_private()\n",
    "    new_record['phone'] = fake.phone_number()\n",
    "    new_record['provide_agreement'] = random.choice([1,0])\n",
    "    new_record['role'] = random.choice([1,0])\n",
    "    new_record['sleep_date'] = None\n",
    "    new_record['updated_at'] = df_date\n",
    "    new_record['updated_by'] = user\n",
    "    new_record['updated_login_type'] = None\n",
    "    new_record['user_id'] = fake.text().split(\" \")[0]+str(i)\n",
    "    \n",
    "    df = df.append(new_record, ignore_index=True)\n",
    "    \n",
    "df.to_csv('result/result_'+file_name,encoding='utf-8-sig',index=False)"
   ]
  },
  {
   "cell_type": "markdown",
   "id": "4785727e",
   "metadata": {},
   "source": [
    "## Banner 목데이터 생성"
   ]
  },
  {
   "cell_type": "code",
   "execution_count": 20,
   "id": "7d7350f1",
   "metadata": {},
   "outputs": [
    {
     "data": {
      "text/plain": [
       "['id',\n",
       " 'created_at',\n",
       " 'created_by',\n",
       " 'expose_num',\n",
       " 'link_type',\n",
       " 'status',\n",
       " 'title',\n",
       " 'updated_at',\n",
       " 'updated_by',\n",
       " 'url']"
      ]
     },
     "execution_count": 20,
     "metadata": {},
     "output_type": "execute_result"
    }
   ],
   "source": [
    "file_name = 'banner_202111171010.csv'\n",
    "record = 100\n",
    "\n",
    "df = pd.read_csv(\"table/\"+file_name)\n",
    "header_list = df.columns.values.tolist()\n",
    "header_list"
   ]
  },
  {
   "cell_type": "code",
   "execution_count": 24,
   "id": "0e69efd7",
   "metadata": {},
   "outputs": [],
   "source": [
    "file_name = 'banner_202111171010.csv'\n",
    "record = 100\n",
    "\n",
    "df = pd.read_csv(\"table/\"+file_name)\n",
    "header_list = df.columns.values.tolist()\n",
    "for i in range(3,record+1):\n",
    "    new_record = {}\n",
    "    year = random.randrange(2000,2022)\n",
    "    month = random.randrange(1,13)\n",
    "    day = random.randrange(1,29)\n",
    "    hour = random.randrange(0,24)\n",
    "    min = random.randrange(0,60)\n",
    "    sec = random.randrange(0,60)\n",
    "    \n",
    "    user = fake.name()\n",
    "    df_date = datetime.datetime(year,month,day,hour,min,sec)\n",
    "    \n",
    "    year = random.randrange(2000,2022)\n",
    "    month = random.randrange(1,13)\n",
    "    day = random.randrange(1,29)\n",
    "    hour = random.randrange(0,24)\n",
    "    min = random.randrange(0,60)\n",
    "    sec = random.randrange(0,60)\n",
    "    \n",
    "    df_date2 = datetime.datetime(year,month,day)\n",
    "    df_hour2 = datetime.datetime(2000,1,1,hour,min,sec)\n",
    "    \n",
    "    \n",
    "    new_record['id'] = i\n",
    "    new_record['created_at'] = df_date\n",
    "    new_record['created_by'] = \"리뷰팟관리자\"\n",
    "    new_record['expose_num'] = i\n",
    "    new_record['link_type'] = random.choice([\"Youtube\",\"Naver\",\"Netflix\",\"Blog\",\"Watcha\",\"tving\",\"unknown\"])\n",
    "    new_record['status'] = random.choice([1,0])\n",
    "    new_record['title'] = fake.catch_phrase()\n",
    "    new_record['updated_at'] = df_date\n",
    "    new_record['updated_by'] = user\n",
    "    new_record['url'] = fake.url()\n",
    "    \n",
    "    df = df.append(new_record, ignore_index=True)\n",
    "    \n",
    "df.to_csv('result/result_'+file_name,encoding='utf-8-sig',index=False)"
   ]
  },
  {
   "cell_type": "markdown",
   "id": "10f30d1a",
   "metadata": {},
   "source": [
    "## MediaMultiplex 목데이터 생성"
   ]
  },
  {
   "cell_type": "code",
   "execution_count": 25,
   "id": "6f3aadea",
   "metadata": {},
   "outputs": [
    {
     "data": {
      "text/plain": [
       "['id',\n",
       " 'created_at',\n",
       " 'collect_status',\n",
       " 'collect_url',\n",
       " 'name',\n",
       " 'status',\n",
       " 'media_id']"
      ]
     },
     "execution_count": 25,
     "metadata": {},
     "output_type": "execute_result"
    }
   ],
   "source": [
    "file_name = 'media_multiplex_202111171015.csv'\n",
    "record = 1000\n",
    "\n",
    "df = pd.read_csv(\"table/\"+file_name)\n",
    "header_list = df.columns.values.tolist()\n",
    "header_list"
   ]
  },
  {
   "cell_type": "code",
   "execution_count": 26,
   "id": "a26919ba",
   "metadata": {},
   "outputs": [],
   "source": [
    "file_name = 'media_multiplex_202111171015.csv'\n",
    "record = 1000\n",
    "\n",
    "df = pd.read_csv(\"table/\"+file_name)\n",
    "header_list = df.columns.values.tolist()\n",
    "for i in range(3,record+1):\n",
    "    new_record = {}\n",
    "    year = random.randrange(2000,2022)\n",
    "    month = random.randrange(1,13)\n",
    "    day = random.randrange(1,29)\n",
    "    hour = random.randrange(0,24)\n",
    "    min = random.randrange(0,60)\n",
    "    sec = random.randrange(0,60)\n",
    "    \n",
    "    user = fake.name()\n",
    "    df_date = datetime.datetime(year,month,day,hour,min,sec)\n",
    "    \n",
    "    year = random.randrange(2000,2022)\n",
    "    month = random.randrange(1,13)\n",
    "    day = random.randrange(1,29)\n",
    "    hour = random.randrange(0,24)\n",
    "    min = random.randrange(0,60)\n",
    "    sec = random.randrange(0,60)\n",
    "    \n",
    "    df_date2 = datetime.datetime(year,month,day)\n",
    "    df_hour2 = datetime.datetime(2000,1,1,hour,min,sec)\n",
    "    \n",
    "    \n",
    "    new_record['id'] = i\n",
    "    new_record['created_at'] = df_date\n",
    "    new_record['collect_status'] = random.choice([1,0])\n",
    "    new_record['collect_url'] = fake.url()\n",
    "    new_record['name'] = \"FTCH00\"+str(random.randrange(1,10))\n",
    "    new_record['status'] = random.choice([1,0])\n",
    "    new_record['media_id'] = random.randrange(1,100)\n",
    "    \n",
    "    df = df.append(new_record, ignore_index=True)\n",
    "    \n",
    "df.to_csv('result/result_'+file_name,encoding='utf-8-sig',index=False)"
   ]
  },
  {
   "cell_type": "markdown",
   "id": "b893fe76",
   "metadata": {},
   "source": [
    "## Review 목데이터 생성"
   ]
  },
  {
   "cell_type": "code",
   "execution_count": 29,
   "id": "f2057014",
   "metadata": {
    "scrolled": true
   },
   "outputs": [
    {
     "data": {
      "text/plain": [
       "['id',\n",
       " 'created_at',\n",
       " 'contents',\n",
       " 'is_spoiler',\n",
       " 'score',\n",
       " 'status',\n",
       " 'updated_at',\n",
       " 'updated_by',\n",
       " 'account_id',\n",
       " 'mania_id',\n",
       " 'media_id']"
      ]
     },
     "execution_count": 29,
     "metadata": {},
     "output_type": "execute_result"
    }
   ],
   "source": [
    "file_name = 'review_202111171026.csv'\n",
    "record = 1000\n",
    "\n",
    "df = pd.read_csv(\"table/\"+file_name)\n",
    "header_list = df.columns.values.tolist()\n",
    "header_list"
   ]
  },
  {
   "cell_type": "code",
   "execution_count": 32,
   "id": "e5b1cb96",
   "metadata": {},
   "outputs": [],
   "source": [
    "file_name = 'review_202111171026.csv'\n",
    "record = 1000\n",
    "\n",
    "df = pd.read_csv(\"table/\"+file_name)\n",
    "header_list = df.columns.values.tolist()\n",
    "for i in range(1,record+1):\n",
    "    new_record = {}\n",
    "    year = random.randrange(2000,2022)\n",
    "    month = random.randrange(1,13)\n",
    "    day = random.randrange(1,29)\n",
    "    hour = random.randrange(0,24)\n",
    "    min = random.randrange(0,60)\n",
    "    sec = random.randrange(0,60)\n",
    "    \n",
    "    user = fake.name()\n",
    "    df_date = datetime.datetime(year,month,day,hour,min,sec)\n",
    "    \n",
    "    year = random.randrange(2000,2022)\n",
    "    month = random.randrange(1,13)\n",
    "    day = random.randrange(1,29)\n",
    "    hour = random.randrange(0,24)\n",
    "    min = random.randrange(0,60)\n",
    "    sec = random.randrange(0,60)\n",
    "    \n",
    "    df_date2 = datetime.datetime(year,month,day)\n",
    "    df_hour2 = datetime.datetime(2000,1,1,hour,min,sec)\n",
    "    \n",
    "    \n",
    "    new_record['id'] = i\n",
    "    new_record['created_at'] = df_date\n",
    "    new_record['contents'] = fake.catch_phrase()\n",
    "    new_record['is_spoiler'] = random.choice([1,0])\n",
    "    new_record['score'] = int(random.uniform(0,11))/2\n",
    "    new_record['status'] = random.choice([1,0])\n",
    "    new_record['updated_at'] = df_date\n",
    "    new_record['updated_by'] = user\n",
    "    choose = random.choice([1,0])\n",
    "    if choose == 0:\n",
    "        new_record['account_id'] = random.randrange(1,100)\n",
    "        new_record['mania_id'] = None\n",
    "    else:\n",
    "        new_record['account_id'] = None\n",
    "        new_record['mania_id'] = random.randrange(1,100)\n",
    "    new_record['media_id'] = random.randrange(1,100)\n",
    "        \n",
    "    df = df.append(new_record, ignore_index=True)\n",
    "    \n",
    "df.to_csv('result/result_'+file_name,encoding='utf-8-sig',index=False)"
   ]
  },
  {
   "cell_type": "markdown",
   "id": "81cf00bb",
   "metadata": {},
   "source": [
    "## ReviewLike 목데이터 생성"
   ]
  },
  {
   "cell_type": "code",
   "execution_count": 34,
   "id": "3a83293b",
   "metadata": {},
   "outputs": [
    {
     "data": {
      "text/plain": [
       "['id',\n",
       " 'created_at',\n",
       " 'is_like',\n",
       " 'updated_at',\n",
       " 'updated_by',\n",
       " 'account_id',\n",
       " 'review_id']"
      ]
     },
     "execution_count": 34,
     "metadata": {},
     "output_type": "execute_result"
    }
   ],
   "source": [
    "file_name = 'review_like_202111171033.csv'\n",
    "record = 10000\n",
    "\n",
    "df = pd.read_csv(\"table/\"+file_name)\n",
    "header_list = df.columns.values.tolist()\n",
    "header_list"
   ]
  },
  {
   "cell_type": "code",
   "execution_count": 35,
   "id": "fa34912d",
   "metadata": {},
   "outputs": [],
   "source": [
    "file_name = 'review_like_202111171033.csv'\n",
    "record = 10000\n",
    "\n",
    "df = pd.read_csv(\"table/\"+file_name)\n",
    "header_list = df.columns.values.tolist()\n",
    "for i in range(1,record+1):\n",
    "    new_record = {}\n",
    "    year = random.randrange(2000,2022)\n",
    "    month = random.randrange(1,13)\n",
    "    day = random.randrange(1,29)\n",
    "    hour = random.randrange(0,24)\n",
    "    min = random.randrange(0,60)\n",
    "    sec = random.randrange(0,60)\n",
    "    \n",
    "    user = fake.name()\n",
    "    df_date = datetime.datetime(year,month,day,hour,min,sec)\n",
    "    \n",
    "    year = random.randrange(2000,2022)\n",
    "    month = random.randrange(1,13)\n",
    "    day = random.randrange(1,29)\n",
    "    hour = random.randrange(0,24)\n",
    "    min = random.randrange(0,60)\n",
    "    sec = random.randrange(0,60)\n",
    "    \n",
    "    df_date2 = datetime.datetime(year,month,day)\n",
    "    df_hour2 = datetime.datetime(2000,1,1,hour,min,sec)\n",
    "    \n",
    "    \n",
    "    new_record['id'] = i\n",
    "    new_record['created_at'] = df_date\n",
    "    new_record['is_like'] = random.choice([1,0])\n",
    "    new_record['updated_at'] = df_date\n",
    "    new_record['updated_by'] = user\n",
    "    new_record['account_id'] = random.randrange(1,100)\n",
    "    new_record['review_id'] = random.randrange(1,1000)\n",
    "    \n",
    "        \n",
    "    df = df.append(new_record, ignore_index=True)\n",
    "    \n",
    "df.to_csv('result/result_'+file_name,encoding='utf-8-sig',index=False)"
   ]
  },
  {
   "cell_type": "markdown",
   "id": "3953fbe6",
   "metadata": {},
   "source": [
    "## ReviewReply 목데이터 생성"
   ]
  },
  {
   "cell_type": "code",
   "execution_count": 36,
   "id": "8e12d251",
   "metadata": {},
   "outputs": [
    {
     "data": {
      "text/plain": [
       "['id',\n",
       " 'created_at',\n",
       " 'comment',\n",
       " 'is_spoiler',\n",
       " 'status',\n",
       " 'updated_at',\n",
       " 'account_id',\n",
       " 'parent_id',\n",
       " 'review_id']"
      ]
     },
     "execution_count": 36,
     "metadata": {},
     "output_type": "execute_result"
    }
   ],
   "source": [
    "file_name = 'review_reply_202111171036.csv'\n",
    "record = 10000\n",
    "\n",
    "df = pd.read_csv(\"table/\"+file_name)\n",
    "header_list = df.columns.values.tolist()\n",
    "header_list"
   ]
  },
  {
   "cell_type": "code",
   "execution_count": 38,
   "id": "a297edb1",
   "metadata": {},
   "outputs": [],
   "source": [
    "file_name = 'review_reply_202111171036.csv'\n",
    "record = 10000\n",
    "\n",
    "df = pd.read_csv(\"table/\"+file_name)\n",
    "header_list = df.columns.values.tolist()\n",
    "for i in range(1,record+1):\n",
    "    new_record = {}\n",
    "    year = random.randrange(2000,2022)\n",
    "    month = random.randrange(1,13)\n",
    "    day = random.randrange(1,29)\n",
    "    hour = random.randrange(0,24)\n",
    "    min = random.randrange(0,60)\n",
    "    sec = random.randrange(0,60)\n",
    "    \n",
    "    user = fake.name()\n",
    "    df_date = datetime.datetime(year,month,day,hour,min,sec)\n",
    "    \n",
    "    year = random.randrange(2000,2022)\n",
    "    month = random.randrange(1,13)\n",
    "    day = random.randrange(1,29)\n",
    "    hour = random.randrange(0,24)\n",
    "    min = random.randrange(0,60)\n",
    "    sec = random.randrange(0,60)\n",
    "    \n",
    "    df_date2 = datetime.datetime(year,month,day)\n",
    "    df_hour2 = datetime.datetime(2000,1,1,hour,min,sec)\n",
    "    \n",
    "    \n",
    "    new_record['id'] = i\n",
    "    new_record['created_at'] = df_date\n",
    "    new_record['comment'] = fake.catch_phrase()\n",
    "    new_record['is_spoiler'] = random.choice([1,0])\n",
    "    new_record['status'] = random.choice([1,0])\n",
    "    new_record['updated_at'] = df_date\n",
    "    new_record['updated_by'] = user\n",
    "    new_record['account_id'] = random.randrange(1,100)\n",
    "    if i < 100:\n",
    "        new_record['parent_id'] = None\n",
    "    else:\n",
    "        new_record['parent_id'] = random.randrange(1,100)\n",
    "    new_record['review_id'] = random.randrange(1,1000)\n",
    "    \n",
    "        \n",
    "    df = df.append(new_record, ignore_index=True)\n",
    "    \n",
    "df.to_csv('result/result_'+file_name,encoding='utf-8-sig',index=False)"
   ]
  },
  {
   "cell_type": "markdown",
   "id": "14693e89",
   "metadata": {},
   "source": [
    "## MediaLike 목데이터 생성"
   ]
  },
  {
   "cell_type": "code",
   "execution_count": 41,
   "id": "9042aac0",
   "metadata": {},
   "outputs": [
    {
     "data": {
      "text/plain": [
       "['id', 'created_at', 'is_like', 'updated_at', 'account_id', 'media_id']"
      ]
     },
     "execution_count": 41,
     "metadata": {},
     "output_type": "execute_result"
    }
   ],
   "source": [
    "file_name = 'media_like_202111171055.csv'\n",
    "record = 1000\n",
    "\n",
    "df = pd.read_csv(\"table/\"+file_name)\n",
    "header_list = df.columns.values.tolist()\n",
    "header_list"
   ]
  },
  {
   "cell_type": "code",
   "execution_count": 42,
   "id": "5d7e8c16",
   "metadata": {},
   "outputs": [],
   "source": [
    "file_name = 'media_like_202111171055.csv'\n",
    "record = 1000\n",
    "\n",
    "df = pd.read_csv(\"table/\"+file_name)\n",
    "header_list = df.columns.values.tolist()\n",
    "for i in range(1,record+1):\n",
    "    new_record = {}\n",
    "    year = random.randrange(2000,2022)\n",
    "    month = random.randrange(1,13)\n",
    "    day = random.randrange(1,29)\n",
    "    hour = random.randrange(0,24)\n",
    "    min = random.randrange(0,60)\n",
    "    sec = random.randrange(0,60)\n",
    "    \n",
    "    user = fake.name()\n",
    "    df_date = datetime.datetime(year,month,day,hour,min,sec)\n",
    "    \n",
    "    year = random.randrange(2000,2022)\n",
    "    month = random.randrange(1,13)\n",
    "    day = random.randrange(1,29)\n",
    "    hour = random.randrange(0,24)\n",
    "    min = random.randrange(0,60)\n",
    "    sec = random.randrange(0,60)\n",
    "    \n",
    "    df_date2 = datetime.datetime(year,month,day)\n",
    "    df_hour2 = datetime.datetime(2000,1,1,hour,min,sec)\n",
    "    \n",
    "    \n",
    "    new_record['id'] = i\n",
    "    new_record['created_at'] = df_date\n",
    "    new_record['is_like'] = random.choice([1,0])\n",
    "    new_record['updated_at'] = df_date\n",
    "    new_record['account_id'] = random.randrange(1,100)\n",
    "    new_record['media_id'] = random.randrange(1,100)\n",
    "    \n",
    "        \n",
    "    df = df.append(new_record, ignore_index=True)\n",
    "    \n",
    "df.to_csv('result/result_'+file_name,encoding='utf-8-sig',index=False)"
   ]
  },
  {
   "cell_type": "markdown",
   "id": "44c02892",
   "metadata": {},
   "source": [
    "## MediaWatchLog 목데이터 생성 "
   ]
  },
  {
   "cell_type": "code",
   "execution_count": 43,
   "id": "126898f2",
   "metadata": {},
   "outputs": [
    {
     "data": {
      "text/plain": [
       "['id', 'created_at', 'status', 'account_id', 'media_id']"
      ]
     },
     "execution_count": 43,
     "metadata": {},
     "output_type": "execute_result"
    }
   ],
   "source": [
    "file_name = 'media_watch_log_202111171100.csv'\n",
    "record = 1000\n",
    "\n",
    "df = pd.read_csv(\"table/\"+file_name)\n",
    "header_list = df.columns.values.tolist()\n",
    "header_list"
   ]
  },
  {
   "cell_type": "code",
   "execution_count": 44,
   "id": "615bdb33",
   "metadata": {},
   "outputs": [],
   "source": [
    "file_name = 'media_watch_log_202111171100.csv'\n",
    "record = 1000\n",
    "\n",
    "df = pd.read_csv(\"table/\"+file_name)\n",
    "header_list = df.columns.values.tolist()\n",
    "for i in range(1,record+1):\n",
    "    new_record = {}\n",
    "    year = random.randrange(2000,2022)\n",
    "    month = random.randrange(1,13)\n",
    "    day = random.randrange(1,29)\n",
    "    hour = random.randrange(0,24)\n",
    "    min = random.randrange(0,60)\n",
    "    sec = random.randrange(0,60)\n",
    "    \n",
    "    user = fake.name()\n",
    "    df_date = datetime.datetime(year,month,day,hour,min,sec)\n",
    "    \n",
    "    year = random.randrange(2000,2022)\n",
    "    month = random.randrange(1,13)\n",
    "    day = random.randrange(1,29)\n",
    "    hour = random.randrange(0,24)\n",
    "    min = random.randrange(0,60)\n",
    "    sec = random.randrange(0,60)\n",
    "    \n",
    "    df_date2 = datetime.datetime(year,month,day)\n",
    "    df_hour2 = datetime.datetime(2000,1,1,hour,min,sec)\n",
    "    \n",
    "    \n",
    "    new_record['id'] = i\n",
    "    new_record['created_at'] = df_date\n",
    "    new_record['status'] = random.choice([1,0])\n",
    "    new_record['account_id'] = random.randrange(1,100)\n",
    "    new_record['media_id'] = random.randrange(1,100)\n",
    "    \n",
    "        \n",
    "    df = df.append(new_record, ignore_index=True)\n",
    "    \n",
    "df.to_csv('result/result_'+file_name,encoding='utf-8-sig',index=False)"
   ]
  },
  {
   "cell_type": "markdown",
   "id": "f51803dd",
   "metadata": {},
   "source": [
    "## AccountRecommend 목데이터 생성"
   ]
  },
  {
   "cell_type": "code",
   "execution_count": 45,
   "id": "936379bf",
   "metadata": {},
   "outputs": [
    {
     "data": {
      "text/plain": [
       "['id', 'created_at', 'updated_at', 'account_id', 'media_id']"
      ]
     },
     "execution_count": 45,
     "metadata": {},
     "output_type": "execute_result"
    }
   ],
   "source": [
    "file_name = 'account_recommend_202111171107.csv'\n",
    "record = 1000\n",
    "\n",
    "df = pd.read_csv(\"table/\"+file_name)\n",
    "header_list = df.columns.values.tolist()\n",
    "header_list"
   ]
  },
  {
   "cell_type": "code",
   "execution_count": 46,
   "id": "3d563708",
   "metadata": {},
   "outputs": [],
   "source": [
    "file_name = 'account_recommend_202111171107.csv'\n",
    "record = 1000\n",
    "\n",
    "df = pd.read_csv(\"table/\"+file_name)\n",
    "header_list = df.columns.values.tolist()\n",
    "for i in range(1,record+1):\n",
    "    new_record = {}\n",
    "    year = random.randrange(2000,2022)\n",
    "    month = random.randrange(1,13)\n",
    "    day = random.randrange(1,29)\n",
    "    hour = random.randrange(0,24)\n",
    "    min = random.randrange(0,60)\n",
    "    sec = random.randrange(0,60)\n",
    "    \n",
    "    user = fake.name()\n",
    "    df_date = datetime.datetime(year,month,day,hour,min,sec)\n",
    "    \n",
    "    year = random.randrange(2000,2022)\n",
    "    month = random.randrange(1,13)\n",
    "    day = random.randrange(1,29)\n",
    "    hour = random.randrange(0,24)\n",
    "    min = random.randrange(0,60)\n",
    "    sec = random.randrange(0,60)\n",
    "    \n",
    "    df_date2 = datetime.datetime(year,month,day)\n",
    "    df_hour2 = datetime.datetime(2000,1,1,hour,min,sec)\n",
    "    \n",
    "    \n",
    "    new_record['id'] = i\n",
    "    new_record['created_at'] = df_date\n",
    "    new_record['updated_at'] = df_date\n",
    "    new_record['account_id'] = random.randrange(1,100)\n",
    "    new_record['media_id'] = random.randrange(1,100)\n",
    "    \n",
    "        \n",
    "    df = df.append(new_record, ignore_index=True)\n",
    "    \n",
    "df.to_csv('result/result_'+file_name,encoding='utf-8-sig',index=False)"
   ]
  },
  {
   "cell_type": "markdown",
   "id": "943f03a5",
   "metadata": {},
   "source": [
    "## AccountSearch 목데이터 생성"
   ]
  },
  {
   "cell_type": "code",
   "execution_count": 47,
   "id": "5cafd526",
   "metadata": {},
   "outputs": [
    {
     "data": {
      "text/plain": [
       "['id', 'created_at', 'search_type', 'updated_at', 'account_id', 'media_id']"
      ]
     },
     "execution_count": 47,
     "metadata": {},
     "output_type": "execute_result"
    }
   ],
   "source": [
    "file_name = 'account_search_202111171108.csv'\n",
    "record = 1000\n",
    "\n",
    "df = pd.read_csv(\"table/\"+file_name)\n",
    "header_list = df.columns.values.tolist()\n",
    "header_list"
   ]
  },
  {
   "cell_type": "code",
   "execution_count": 48,
   "id": "42652d9c",
   "metadata": {},
   "outputs": [],
   "source": [
    "file_name = 'account_search_202111171108.csv'\n",
    "record = 1000\n",
    "\n",
    "df = pd.read_csv(\"table/\"+file_name)\n",
    "header_list = df.columns.values.tolist()\n",
    "for i in range(1,record+1):\n",
    "    new_record = {}\n",
    "    year = random.randrange(2000,2022)\n",
    "    month = random.randrange(1,13)\n",
    "    day = random.randrange(1,29)\n",
    "    hour = random.randrange(0,24)\n",
    "    min = random.randrange(0,60)\n",
    "    sec = random.randrange(0,60)\n",
    "    \n",
    "    user = fake.name()\n",
    "    df_date = datetime.datetime(year,month,day,hour,min,sec)\n",
    "    \n",
    "    year = random.randrange(2000,2022)\n",
    "    month = random.randrange(1,13)\n",
    "    day = random.randrange(1,29)\n",
    "    hour = random.randrange(0,24)\n",
    "    min = random.randrange(0,60)\n",
    "    sec = random.randrange(0,60)\n",
    "    \n",
    "    df_date2 = datetime.datetime(year,month,day)\n",
    "    df_hour2 = datetime.datetime(2000,1,1,hour,min,sec)\n",
    "    \n",
    "    \n",
    "    new_record['id'] = i\n",
    "    new_record['created_at'] = df_date\n",
    "    new_record['search_type'] = random.choice([\"영화검색\",\"메인메뉴검색\",\"리뷰검색\",\"인물검색\"])\n",
    "    new_record['updated_at'] = df_date\n",
    "    new_record['account_id'] = random.randrange(1,100)\n",
    "    new_record['media_id'] = random.randrange(1,100)\n",
    "    \n",
    "        \n",
    "    df = df.append(new_record, ignore_index=True)\n",
    "    \n",
    "df.to_csv('result/result_'+file_name,encoding='utf-8-sig',index=False)"
   ]
  },
  {
   "cell_type": "markdown",
   "id": "f15a589a",
   "metadata": {},
   "source": [
    "## AccountFollow 목데이터 생성"
   ]
  },
  {
   "cell_type": "code",
   "execution_count": 49,
   "id": "b7cd2d97",
   "metadata": {},
   "outputs": [
    {
     "data": {
      "text/plain": [
       "['id', 'created_at', 'status', 'account_id', 'follower_id']"
      ]
     },
     "execution_count": 49,
     "metadata": {},
     "output_type": "execute_result"
    }
   ],
   "source": [
    "file_name = 'account_follow_202111171112.csv'\n",
    "record = 1000\n",
    "\n",
    "df = pd.read_csv(\"table/\"+file_name)\n",
    "header_list = df.columns.values.tolist()\n",
    "header_list"
   ]
  },
  {
   "cell_type": "code",
   "execution_count": 52,
   "id": "3387ce4b",
   "metadata": {},
   "outputs": [],
   "source": [
    "file_name = 'account_follow_202111171112.csv'\n",
    "record = 1000\n",
    "\n",
    "df = pd.read_csv(\"table/\"+file_name)\n",
    "header_list = df.columns.values.tolist()\n",
    "for i in range(1,record+1):\n",
    "    new_record = {}\n",
    "    year = random.randrange(2000,2022)\n",
    "    month = random.randrange(1,13)\n",
    "    day = random.randrange(1,29)\n",
    "    hour = random.randrange(0,24)\n",
    "    min = random.randrange(0,60)\n",
    "    sec = random.randrange(0,60)\n",
    "    \n",
    "    user = fake.name()\n",
    "    df_date = datetime.datetime(year,month,day,hour,min,sec)\n",
    "    \n",
    "    year = random.randrange(2000,2022)\n",
    "    month = random.randrange(1,13)\n",
    "    day = random.randrange(1,29)\n",
    "    hour = random.randrange(0,24)\n",
    "    min = random.randrange(0,60)\n",
    "    sec = random.randrange(0,60)\n",
    "    \n",
    "    df_date2 = datetime.datetime(year,month,day)\n",
    "    df_hour2 = datetime.datetime(2000,1,1,hour,min,sec)\n",
    "    \n",
    "    \n",
    "    new_record['id'] = i\n",
    "    new_record['created_at'] = df_date\n",
    "    new_record['status'] = random.choice([1,0])\n",
    "    accid = random.randrange(1,100)\n",
    "    new_record['account_id'] = accid\n",
    "    folid = random.randrange(1,100)\n",
    "    if folid == 1 & folid ==accid:\n",
    "        folid = folid+1\n",
    "    elif folid==99 & folid==accid:\n",
    "        folid=folid-1\n",
    "        \n",
    "    new_record['follower_id'] = folid\n",
    "    \n",
    "        \n",
    "    df = df.append(new_record, ignore_index=True)\n",
    "    \n",
    "df.to_csv('result/result_'+file_name,encoding='utf-8-sig',index=False)"
   ]
  },
  {
   "cell_type": "markdown",
   "id": "88c8d392",
   "metadata": {},
   "source": [
    "## AccountPoint 목데이터 생성"
   ]
  },
  {
   "cell_type": "code",
   "execution_count": 13,
   "id": "0916cf67",
   "metadata": {},
   "outputs": [
    {
     "data": {
      "text/plain": [
       "['id',\n",
       " 'created_at',\n",
       " 'description',\n",
       " 'point',\n",
       " 'status',\n",
       " 'update_by',\n",
       " 'updated_at',\n",
       " 'account_id']"
      ]
     },
     "execution_count": 13,
     "metadata": {},
     "output_type": "execute_result"
    }
   ],
   "source": [
    "file_name = 'account_point_202111231214.csv'\n",
    "record = 10000\n",
    "\n",
    "df = pd.read_csv(\"table/\"+file_name)\n",
    "header_list = df.columns.values.tolist()\n",
    "header_list"
   ]
  },
  {
   "cell_type": "code",
   "execution_count": 19,
   "id": "755ee96c",
   "metadata": {},
   "outputs": [],
   "source": [
    "file_name = 'account_point_202111231214.csv'\n",
    "record = 1000\n",
    "\n",
    "df = pd.read_csv(\"table/\"+file_name)\n",
    "header_list = df.columns.values.tolist()\n",
    "for i in range(1,record+1):\n",
    "    new_record = {}\n",
    "    year = random.randrange(2000,2022)\n",
    "    month = random.randrange(1,13)\n",
    "    day = random.randrange(1,29)\n",
    "    hour = random.randrange(0,24)\n",
    "    min = random.randrange(0,60)\n",
    "    sec = random.randrange(0,60)\n",
    "    \n",
    "    user = fake.name()\n",
    "    df_date = datetime.datetime(year,month,day,hour,min,sec)\n",
    "    \n",
    "    year = random.randrange(2000,2022)\n",
    "    month = random.randrange(1,13)\n",
    "    day = random.randrange(1,29)\n",
    "    hour = random.randrange(0,24)\n",
    "    min = random.randrange(0,60)\n",
    "    sec = random.randrange(0,60)\n",
    "    \n",
    "    df_date2 = datetime.datetime(year,month,day)\n",
    "    df_hour2 = datetime.datetime(2000,1,1,hour,min,sec)\n",
    "    \n",
    "    \n",
    "    new_record['id'] = i\n",
    "    new_record['created_at'] = df_date\n",
    "    point = random.randrange(-20,200)\n",
    "    if point > 0:   \n",
    "        new_record['description'] = random.choice([\"리뷰작성\",\"리뷰좋아요\",\"답글좋아요\",\"포인트리워드\"])\n",
    "    else:\n",
    "        new_record['description'] = random.choice([\"리뷰싫어요\"])\n",
    "    new_record['point'] = point\n",
    "    new_record['status'] = random.choice([1,0])\n",
    "    new_record['update_by'] = \"리뷰팟관리자\"\n",
    "    new_record['account_id'] = random.randrange(1,100)\n",
    "    new_record['updated_at'] = df_date\n",
    "\n",
    "        \n",
    "    df = df.append(new_record, ignore_index=True)\n",
    "    \n",
    "df.to_csv('result/result_'+file_name,encoding='utf-8-sig',index=False)"
   ]
  },
  {
   "cell_type": "code",
   "execution_count": null,
   "id": "a852a2e9",
   "metadata": {},
   "outputs": [],
   "source": []
  }
 ],
 "metadata": {
  "kernelspec": {
   "display_name": "Python 3",
   "language": "python",
   "name": "python3"
  },
  "language_info": {
   "codemirror_mode": {
    "name": "ipython",
    "version": 3
   },
   "file_extension": ".py",
   "mimetype": "text/x-python",
   "name": "python",
   "nbconvert_exporter": "python",
   "pygments_lexer": "ipython3",
   "version": "3.8.8"
  }
 },
 "nbformat": 4,
 "nbformat_minor": 5
}
