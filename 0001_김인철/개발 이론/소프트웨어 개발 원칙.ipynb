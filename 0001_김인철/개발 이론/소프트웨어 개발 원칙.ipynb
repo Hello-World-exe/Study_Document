{
 "cells": [
  {
   "cell_type": "markdown",
   "id": "0ab92718",
   "metadata": {},
   "source": [
    "# 0. 서론\n",
    "들어가기에 앞서 설명할 소프트웨어 개발 원칙은 절대적인 법칙이 아닌 지키면 손해보지 않을 규칙들을 설명한 것이다. 프로그램을 개발함에 있어서 정말 숙련된 프로그래머, 혹은 기업는 경험을 바탕으로 쌓아올린 기술과 프레임워크를 기반으로 분석 설계 개발한다. 그 과정에 있어서 개발과 코딩의 본질적인 특징을 잡아 원칙을 세운 것이다.\n",
    "\n",
    "**SOLID 원칙은 객체 지향에 한하여 프로그래밍과 설계의 5가지 원칙이며, 나머지 DRY, KISS, YAGNI 는 포괄적인 개발 원칙이다.**"
   ]
  },
  {
   "cell_type": "markdown",
   "id": "49436b05",
   "metadata": {},
   "source": [
    "# 1. SOLID 원칙\n",
    "객체지향 설계 5대 원칙으로 불린다.\n",
    "- 1. **S**RP (Single Responsibility Principle) : 단일 책임 원칙\n",
    "- 2. **O**CP (Open Closed Principle) : 개방 폐쇄 원칙\n",
    "- 3. **L**SP (Liskov Substitution Principle) : 리스코프 치환 원칙\n",
    "- 4. **I**SP (Interface Segregation Principle) : 인터페이스 분리 원칙\n",
    "- 5. **D**IP (Dependency Inversion Principle) : 의존 역전 원칙"
   ]
  },
  {
   "cell_type": "markdown",
   "id": "81ec190a",
   "metadata": {},
   "source": [
    "## 1.1 단일 책임 원칙 (Single Responsibility Principle)\n",
    "#### 모든 클래스는 각각 하나의 책임만을 가져야한다. 클래스는 그 책임을 완전히 캡슐화해야만 한다.\n",
    "쇼핑몰 프로젝트에서 구입 절차에 관련된 클래스에서 뜬금없이 유저 회원가입 기능이 들어간다거나 관계가 있으면 안되는 것과 같이 클래스는 기능에 대한 책임을 캡슐화해야만 한다."
   ]
  },
  {
   "cell_type": "markdown",
   "id": "d25a302a",
   "metadata": {},
   "source": [
    "## 1.2 개방-폐쇄 원칙 (Open Closed Principle)\n",
    "#### 확장에는 열려있고 수정에는 닫혀있어야만 한다. 즉, 기존의 코드 변경없이 기능 추가가 가능한 설계가 되어야 한다는 원칙이다.\n",
    "쇼핑몰 프로젝트에서 구입 절차에 대한 코드가 작성되어있다. 여기에 구입을 했을때 로그 데이터가 데이터베이스에 저장되는 기능을 추가하려고 할 때, 구매에 대한 기능 코드는 수정되지 않고 로그에 대한 기능 코드만 추가될 수 있어야만 한다."
   ]
  },
  {
   "cell_type": "markdown",
   "id": "0b6dbe06",
   "metadata": {},
   "source": [
    "## 1.3. 리스코프 치환 원칙 (Liskov Substitution Principle)\n",
    "#### 자식 클래스는 언제나 상속해준 부모 클래스를 대체할 수 있어야한다. 즉, 부모 클래스 자리에 자식 클래스로 대체하여도 제대로 작동 되어야 한다.\n",
    "자식 클래스는 부모 클래스의 설계 의도를 무시하거나 재정의하지 않고 확장만 수행하도록 해야 리스코프 치환 원칙을 만족한다."
   ]
  },
  {
   "cell_type": "markdown",
   "id": "ac37505a",
   "metadata": {},
   "source": [
    "## 1.4. 인터페이스 분리 원칙 (Interface Segregation Principle)\n",
    "#### 클라이언트가 자신이 이용하지 않는 메서드에 의존하지 않아야 한다.\n",
    "큰 덩어리의 인터페이스들을 구체적이고 작은 단위들로 분리시킴으로써 클라이언트들이 꼭 필요한 메서드들만 이용할 수 있게 하는 것이다. 이런 작은 단위들을 *[역할 인터페이스]* 라고도 부르며 ISP 원칙을 통해 시스템 내부 의존성을 약화시켜 리팩토링, 수정, 재배포를 쉽게 할 수 있게 한다."
   ]
  },
  {
   "cell_type": "markdown",
   "id": "e67719bc",
   "metadata": {},
   "source": [
    "## 1.5. 의존 역전 원칙 (Dependency Inversion Principle)\n",
    "#### 상위 계층(정책 결정)이 하위 계층(세부 사항)에 의존하는 전통적인 의존관계를 반전(역전)시킴으로써 상위 계층이 하위 계층의 구현으로부터 독립되게 할 수 있다.\n",
    "\n",
    "- 첫째, 상위 모듈은 하위 모듈에 의존해서는 안된다. 상위 모듈과 하위 모듈 모두 추상화에 의존해야 한다.\n",
    "- 둘째, 추상화는 세부 사항에 의존해서는 안된다. 세부사항이 추상화에 의존해야 한다.\n",
    "\n",
    "***이 원칙은 '상위와 하위 객체 모두가 동일한 추상화에 의존해야 한다'는 객체 지향적 설계의 대원칙을 제공한다.***\n",
    "\n",
    "쉽게말해서 의존 관계를 맺을 때 변화하기 쉬운 것 또는 자주 변화하는 것보다는 변화하기 어렵고 변화가 없는 것에 의존하라는 의미이다."
   ]
  },
  {
   "cell_type": "markdown",
   "id": "1be40a33",
   "metadata": {},
   "source": [
    "***"
   ]
  },
  {
   "cell_type": "markdown",
   "id": "4605e3af",
   "metadata": {},
   "source": [
    "# 2. DRY\n",
    "## DRY (Don't repeat yourself, 중복배제)\n",
    "\n",
    "모든 형태의 정보 중복을 지양하는 원리이다. 특히 다층 구조 시스템에서 유용하다.\n",
    "중복배제 원리는 한마디로 \n",
    ">“모든 지식은 시스템 내에서 유일하고 중복이 없으며 권위있는 표상만을 가진다”\n",
    "\n"
   ]
  },
  {
   "cell_type": "markdown",
   "id": "12b0f7b9",
   "metadata": {},
   "source": [
    "---"
   ]
  },
  {
   "cell_type": "markdown",
   "id": "9aea40ba",
   "metadata": {},
   "source": [
    "# 3. YAGNI\n",
    "## YAGNI (You aren't gonna need it)\n",
    "\n",
    "프로그래머가 필요하다고 간주할 때까지 기능을 추가하지 않는 것이 좋다는 익스트림 프로그래밍(XP)의 원칙이다.  \n",
    "\n",
    "익스트림 프로그래밍의 공동 설립자 론 제프리스는 다음과 같이 썼다:  \n",
    "\n",
    "> \"실제로 필요할 때 무조건 구현하되, 그저 필요할 것이라고 예상할 때에는 절대 구현하지 말라.\"\n",
    "\n",
    "\"You aren't going to need it\"와 \"You ain't gonna need it\"의 준말로도 인용된다."
   ]
  },
  {
   "cell_type": "markdown",
   "id": "ac8a1e40",
   "metadata": {},
   "source": [
    "---"
   ]
  },
  {
   "cell_type": "markdown",
   "id": "c59addd6",
   "metadata": {},
   "source": [
    "# 4. KISS\n",
    "## KISS (Keep it small and simple)\n",
    "“Keep it short and simple. 또는 “Keep it simple, stupid.”의 첫글자만 따서 만든 약어로, KISS 원칙이란 **디자인에서 간단하고 알기 쉽게 만드는 편이 좋다는 원리를 말한다.**"
   ]
  }
 ],
 "metadata": {
  "kernelspec": {
   "display_name": "Python 3",
   "language": "python",
   "name": "python3"
  },
  "language_info": {
   "codemirror_mode": {
    "name": "ipython",
    "version": 3
   },
   "file_extension": ".py",
   "mimetype": "text/x-python",
   "name": "python",
   "nbconvert_exporter": "python",
   "pygments_lexer": "ipython3",
   "version": "3.8.8"
  }
 },
 "nbformat": 4,
 "nbformat_minor": 5
}
