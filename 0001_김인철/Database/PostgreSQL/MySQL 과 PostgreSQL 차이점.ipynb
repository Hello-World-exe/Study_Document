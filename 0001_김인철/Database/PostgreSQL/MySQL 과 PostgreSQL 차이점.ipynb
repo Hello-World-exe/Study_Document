{
 "cells": [
  {
   "cell_type": "markdown",
   "id": "bc4432ac",
   "metadata": {},
   "source": [
    "# MYSQL 과 PostgreSQL 의 차이점\n",
    "\n",
    "##### MySQL 처럼 사용하면 되지만 PostgrSQL 만의 독특한 점이 있으니 꼭! 유의하고 사용하도록 하자"
   ]
  },
  {
   "cell_type": "markdown",
   "id": "007ca234",
   "metadata": {},
   "source": [
    "## 1. 데이터 베이스 구조가 달라 (이름 주의)\n",
    "####  MySQL Database == PostgreSQL Schema\n",
    "**MySQL** 은 데이터베이스에 테이블의 집합을 담고 있지만  \n",
    "**PostgreSQL** 은 스키마에 테이블의 집합을 담고 있다..! \n",
    " \n",
    "> 결론적으로 PostgreSQL에서 테이블을 접근하려면 데이터베이스에 연결하고 스키마명.테이블명으로 접근해야한다."
   ]
  },
  {
   "cell_type": "markdown",
   "id": "001f8d7a",
   "metadata": {},
   "source": [
    "## 2. 테이블 생성 시 증가하는 컬럼의 설정 방법이 다르다\n",
    "**MySQL** 는  *AUTO_INCREMENT*  \n",
    "```mysql\n",
    "id INT NOT NULL AUTO_INCREMENT\n",
    "```\n",
    "\n",
    "**PostgreSQL** 는 *Serial*\n",
    "```postgresql\n",
    "id SERIAL\n",
    "```"
   ]
  },
  {
   "cell_type": "markdown",
   "id": "93d169dc",
   "metadata": {},
   "source": [
    "## 3. PostgreSQL 은 정수 / 정수를 정수로 계산한다.\n",
    "```postgresql\n",
    "SELECT 100 / 3;\n",
    "```\n",
    "위의 결과값으로 33 출력\n",
    "\n",
    "**소수점 계산 방법**\n",
    "```postgresql\n",
    "SELECT CAST(100 AS float) / 3;\n",
    "SELECT 100.0 / 3; \n",
    "```"
   ]
  },
  {
   "cell_type": "markdown",
   "id": "345521b7",
   "metadata": {},
   "source": [
    "## 4. 문자열을 숫자로 변환하는 법\n",
    "**MySQL**\n",
    "```mysql\n",
    "-- INTEGER\n",
    "SELECT CAST('777' AS UNSIGNED);\n",
    "SELECT CAST('-777' AS SIGNED);\n",
    "\n",
    "-- FLOAT(DOUBLE)\n",
    "-- DECIMAL(M, D) M은 총 자리 수 D는 소수 점 자리수를 의미한다.\n",
    "SELECT CAST('77.77' as DECIMAL(4, 2));\n",
    "```\n",
    "\n",
    "**PostgreSQL** \n",
    "```postgresql\n",
    "-- INTEGER\n",
    "SELECT CAST('777' AS INTEGER);\n",
    "SELECT '-777'::INTEGER;\n",
    "\n",
    "-- FLOAT(DOUBLE)\n",
    "SELECT CAST('77.77' AS FLOAT);\n",
    "SELECT CAST('77.77' AS DOUBLE PRECISION);\n",
    "SELECT CAST('77.77' as NUMERIC(4, 2));\n",
    "```"
   ]
  },
  {
   "cell_type": "markdown",
   "id": "72197614",
   "metadata": {},
   "source": [
    "## 5. 문자열을 숫자로 변환할 때\n",
    "### MySQL 은 에러가 안나고 0을 출력하지만 PostgreSQL은 에러를 배출함\n",
    "**MySQL**\n",
    "```mysql\n",
    "SELECT CAST('DBDFD' AS SIGNED);\n",
    "```\n",
    "위의 결과값은 0이다... -> 에러 안남\n",
    "\n",
    "**PostgreSQL** \n",
    "```postgresql\n",
    "SELECT CAST('DBDFD' AS INTEGER);\n",
    "```\n",
    "ERROR!"
   ]
  },
  {
   "cell_type": "markdown",
   "id": "bff2cf54",
   "metadata": {},
   "source": [
    "## 6. MySQL은 문자열 비교 시 case-insensitive But...\n",
    "**MySQL**\n",
    "```mysql\n",
    "SELECT 'Hello' =  'hello'\n",
    "```\n",
    "위의 결과값은 True 이다.\n",
    "\n",
    "**PostgreSQL** \n",
    "```postgresql\n",
    "SELECT 'Hello' =  'hello'\n",
    "```\n"
   ]
  },
  {
   "cell_type": "code",
   "execution_count": null,
   "id": "8f2b0f33",
   "metadata": {},
   "outputs": [],
   "source": []
  },
  {
   "cell_type": "markdown",
   "id": "c952e04d",
   "metadata": {},
   "source": [
    "# Usable Syntax (URL)"
   ]
  },
  {
   "cell_type": "markdown",
   "id": "d3bba431",
   "metadata": {},
   "source": [
    "#### 1) 데이터 베이스 테이블 조회\n",
    "```postgresql\n",
    "SELECT table_name, table_schema, table_type\n",
    "FROM information_schema.tables\n",
    "WHERE table_schema ='public' ;\n",
    "```"
   ]
  },
  {
   "cell_type": "markdown",
   "id": "dbdd8d49",
   "metadata": {},
   "source": [
    "#### 1) 데이터 베이스 테이블 조회\n",
    "```postgresql\n",
    "\n",
    "\n",
    "```"
   ]
  }
 ],
 "metadata": {
  "kernelspec": {
   "display_name": "Python 3",
   "language": "python",
   "name": "python3"
  },
  "language_info": {
   "codemirror_mode": {
    "name": "ipython",
    "version": 3
   },
   "file_extension": ".py",
   "mimetype": "text/x-python",
   "name": "python",
   "nbconvert_exporter": "python",
   "pygments_lexer": "ipython3",
   "version": "3.8.8"
  }
 },
 "nbformat": 4,
 "nbformat_minor": 5
}
