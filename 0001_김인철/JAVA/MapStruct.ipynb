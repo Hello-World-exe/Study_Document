{
 "cells": [
  {
   "cell_type": "markdown",
   "id": "5a38fe36",
   "metadata": {},
   "source": [
    "# MapStruct\n",
    "## 서론\n"
   ]
  },
  {
   "cell_type": "markdown",
   "id": "9134f180",
   "metadata": {},
   "source": [
    "MapStruct는 주로 Entity와 DTO 간의 변환에서 자동으로 매핑시켜 변환하도록 도와주는 라이브러리이다.  \n",
    "따라서 해당 MapStruct를 이해하기 위해서는 Entity와 DTO 간의 변환이 왜 필요한지 알아야하며 MapStruct 이전에 ModelMapper에 대해 알고 있으면 더욱 수월하게 이해할 수 있을 것이다.\n",
    "\n",
    "> Entity와 DTO 간의 변환에 대한 필요성 내용은 Entity, DTO, VO 차이점 문서를 참조"
   ]
  },
  {
   "cell_type": "markdown",
   "id": "664d2379",
   "metadata": {},
   "source": [
    "## 1. MapStruct가 무엇인가\n",
    "MapStrcut는 엔티티와 DTO 간에 변환에 있어서 자동으로 매핑시켜 변환되도록 도와주는 라이브러리이다.  \n",
    "\n",
    "+ 조건 1) 매핑해줄 클래스에는 setter 가 있어야함\n",
    "+ 조건 2) 매핑되는 클래스에는 getter 가 있어야함\n",
    "+ 조건 3) 추가적인 인터페이스를 작성해야하며 maven install을 통해 작성된 인터페이스에 맞는 구현 클래스도 있어야함"
   ]
  },
  {
   "cell_type": "markdown",
   "id": "66a9623b",
   "metadata": {},
   "source": [
    "MapStruct 이전에는 ModelMapper 가 주로 사용되어 졌는데, MapStrcut를 기용하는 개발자가 점점 많아지고 있음.  \n",
    "그 이유로는,\n",
    "\n",
    "+ 1. 매핑 속도가 빠름\n",
    "+ 2. 명시적 (변수들이 어떻게 매핑되는지 확인이 쉽다 - Test 기능이나 구현체 자동 생성)\n",
    "+ 3. 컴파일 단계에서 에러 확인이 가능\n",
    "+ 4. 변수 명으로 인한 실수가 줄어듬 (제약이 줄었음)  \n",
    "\n",
    "\n",
    "**단점 : 파일 개수가 많아짐**"
   ]
  },
  {
   "cell_type": "markdown",
   "id": "f819a4ab",
   "metadata": {},
   "source": [
    "## 2. MapStruct 사용하기\n",
    "#### MAVEN , MapStruct 1.4.2 & lombok 1.18.12 사용"
   ]
  },
  {
   "cell_type": "markdown",
   "id": "38da49d9",
   "metadata": {},
   "source": [
    "DB와 Entity, DTO의 관계와 내용을 알고있다는 전제 하에 설명하도록 한다.  \n",
    "\n",
    "### 1. Dependency 추가\n",
    "pom.xml 에 MapStruct 라이브러리를 사용하기 위한 디펜던시를 추가해주도록 한다. 만약 아래 코드를 사용하려고 한다면  \n",
    "maven-compiler-plugin 버전을 맞추도록하자.   \n",
    "**이외에도 다른 디펜던시와 호환이 안된다면 Issue에 남겨주길 바람**\n",
    "```xml\n",
    "<dependencies>\n",
    "        <!-- Map Struct -->\n",
    "    <dependency>\n",
    "        <groupId>org.mapstruct</groupId>\n",
    "        <artifactId>mapstruct</artifactId>\n",
    "        <version>1.4.2.Final</version>\n",
    "    </dependency>\n",
    "\n",
    "    <!-- Lombok -->\n",
    "    <dependency>\n",
    "        <groupId>org.projectlombok</groupId>\n",
    "        <artifactId>lombok</artifactId>\n",
    "        <version>1.18.12</version>\n",
    "        <scope>provided</scope>\n",
    "    </dependency>\n",
    "\n",
    "    ...\n",
    "\n",
    "</dependencies>\n",
    "<build>\n",
    "    <plugins>\n",
    "        <plugin>\n",
    "            <groupId>org.apache.maven.plugins</groupId>\n",
    "            <artifactId>maven-compiler-plugin</artifactId>\n",
    "            <version>3.5.1</version>\n",
    "            <configuration>\n",
    "                <source>1.8</source>\n",
    "                <target>1.8</target>\n",
    "        <annotationProcessorPaths>\n",
    "                    <path>\n",
    "                        <groupId>org.mapstruct</groupId>\n",
    "                        <artifactId>mapstruct-processor</artifactId>\n",
    "                        <version>1.4.2.Final</version>\n",
    "                    </path>\n",
    "\n",
    "                        <path>\n",
    "                            <groupId>org.projectlombok</groupId>\n",
    "                            <artifactId>lombok</artifactId>\n",
    "                            <version>1.18.12</version>\n",
    "                        </path>\n",
    "                </annotationProcessorPaths>\n",
    "            </configuration>\n",
    "        </plugin>\n",
    "\n",
    "    ...\n",
    "\n",
    "    </plugins>\n",
    "</build>\n",
    "```"
   ]
  },
  {
   "cell_type": "markdown",
   "id": "aafa6a8b",
   "metadata": {},
   "source": [
    "### 2. Mapper 사용 코드\n",
    "BaseDtoMapper 는 상속하지 않아도됨! 있어도 되고 없어도 되고 맘대로 하셈\n",
    "```java\n",
    "@Mapper\n",
    "public interface AdminDtoMapper extends BaseDtoMapper {\n",
    "\n",
    "    AdminDtoMapper INSTANCE = Mappers.getMapper(AdminDtoMapper.class);\n",
    "\n",
    "    AdminDto.Response entityToResponse(Admin admin);\n",
    "\n",
    "}\n",
    "```"
   ]
  },
  {
   "cell_type": "markdown",
   "id": "cdaec725",
   "metadata": {},
   "source": [
    "#### 아무리 따라가면서 이해를 하려고 해도 안되시는 분은 그냥 이런갑다~ 하고 외우세요!"
   ]
  }
 ],
 "metadata": {
  "kernelspec": {
   "display_name": "Python 3",
   "language": "python",
   "name": "python3"
  },
  "language_info": {
   "codemirror_mode": {
    "name": "ipython",
    "version": 3
   },
   "file_extension": ".py",
   "mimetype": "text/x-python",
   "name": "python",
   "nbconvert_exporter": "python",
   "pygments_lexer": "ipython3",
   "version": "3.8.8"
  }
 },
 "nbformat": 4,
 "nbformat_minor": 5
}
